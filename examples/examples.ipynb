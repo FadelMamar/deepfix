{
 "cells": [
  {
   "cell_type": "markdown",
   "id": "943e4af3",
   "metadata": {},
   "source": [
    "# Running advisor\n",
    "\n",
    "Basic usage example for DeepSight Advisor.\n",
    "\n",
    "This example demonstrates how to use the advisor with minimal configuration\n",
    "to run a complete ML analysis pipeline."
   ]
  },
  {
   "cell_type": "code",
   "execution_count": 1,
   "id": "1cb07743",
   "metadata": {},
   "outputs": [
    {
     "name": "stderr",
     "output_type": "stream",
     "text": [
      "/home/fadelco/workspace/deepsight/.venv/lib/python3.11/site-packages/deepchecks/core/serialization/dataframe/html.py:16: UserWarning:\n",
      "\n",
      "pkg_resources is deprecated as an API. See https://setuptools.pypa.io/en/latest/pkg_resources.html. The pkg_resources package is slated for removal as early as 2025-11-30. Refrain from using this package or pin to Setuptools<81.\n",
      "\n"
     ]
    }
   ],
   "source": [
    "from deepsight.core.advisor import AdvisorConfig, MLflowConfig\n",
    "from deepsight.core.advisor import DeepSightAdvisor, run_analysis\n",
    "from deepsight.utils.logging import setup_logging, get_logger\n",
    "\n",
    "# Setup logging\n",
    "setup_logging(level=\"INFO\")\n",
    "logger = get_logger(__name__)"
   ]
  },
  {
   "cell_type": "code",
   "execution_count": 2,
   "id": "e0f7f3d3",
   "metadata": {},
   "outputs": [],
   "source": [
    "run_id = \"07c04cc42fd9461e98f7eb0bf42444fb\"\n",
    "tracking_uri=\"http://localhost:5000\""
   ]
  },
  {
   "cell_type": "markdown",
   "id": "d0cc1fae",
   "metadata": {},
   "source": [
    "### Example 1: Using the convenience function"
   ]
  },
  {
   "cell_type": "code",
   "execution_count": null,
   "id": "8c3a26e4",
   "metadata": {},
   "outputs": [
    {
     "name": "stdout",
     "output_type": "stream",
     "text": [
      "2025-09-21 15:48:42,094 - deepsight.core.advisor.orchestrator - INFO - Configuration loaded and validated successfully\n",
      "2025-09-21 15:48:42,149 - deepsight.core.advisor.orchestrator - INFO - MLflow manager initialized: http://localhost:5000\n",
      "2025-09-21 15:48:42,214 - deepsight.core.advisor.orchestrator - INFO - Artifact manager initialized\n",
      "2025-09-21 15:48:42,215 - deepsight.core.query.builders.generator - INFO - QueryGenerator initialized successfully\n",
      "2025-09-21 15:48:42,216 - deepsight.core.advisor.orchestrator - INFO - Query generator initialized\n",
      "2025-09-21 15:48:42,217 - deepsight.core.advisor.orchestrator - INFO - Intelligence client initialized\n",
      "2025-09-21 15:48:42,217 - deepsight.core.advisor.orchestrator - INFO - DeepSight Advisor initialized successfully\n",
      "2025-09-21 15:48:42,218 - deepsight.core.advisor.orchestrator - INFO - Starting analysis for run_id: 07c04cc42fd9461e98f7eb0bf42444fb\n",
      "2025-09-21 15:48:42,218 - deepsight.core.advisor.orchestrator - INFO - Step 1: Loading artifacts...\n",
      "2025-09-21 15:48:42,219 - deepsight.core.advisor.orchestrator - INFO - Loading artifact: training_artifacts\n"
     ]
    },
    {
     "data": {
      "application/vnd.jupyter.widget-view+json": {
       "model_id": "ea9bd9f6867b49d5b4cab9a0237f03ed",
       "version_major": 2,
       "version_minor": 0
      },
      "text/plain": [
       "Downloading artifacts:   0%|          | 0/2 [00:00<?, ?it/s]"
      ]
     },
     "metadata": {},
     "output_type": "display_data"
    },
    {
     "name": "stdout",
     "output_type": "stream",
     "text": [
      "2025-09-21 15:48:42,362 - deepsight.core.advisor.orchestrator - INFO - Successfully loaded artifact: training_artifacts\n",
      "2025-09-21 15:48:42,363 - deepsight.core.advisor.orchestrator - INFO - Loading artifact: deepchecks\n"
     ]
    },
    {
     "data": {
      "application/vnd.jupyter.widget-view+json": {
       "model_id": "af816a9588134cb599db89ae0df464fd",
       "version_major": 2,
       "version_minor": 0
      },
      "text/plain": [
       "Downloading artifacts:   0%|          | 0/2 [00:00<?, ?it/s]"
      ]
     },
     "metadata": {},
     "output_type": "display_data"
    },
    {
     "name": "stdout",
     "output_type": "stream",
     "text": [
      "2025-09-21 15:48:42,737 - deepsight.core.advisor.orchestrator - INFO - Successfully loaded artifact: deepchecks\n",
      "2025-09-21 15:48:42,738 - deepsight.core.advisor.orchestrator - INFO - Artifact loading completed in 0.52 seconds\n",
      "2025-09-21 15:48:42,739 - deepsight.core.advisor.orchestrator - INFO - Step 2: Generating query...\n",
      "2025-09-21 15:48:42,754 - deepsight.core.advisor.orchestrator - INFO - Query generated successfully in 0.02 seconds\n",
      "2025-09-21 15:48:42,755 - deepsight.core.advisor.orchestrator - INFO - Prompt length: 8735 characters\n",
      "2025-09-21 15:48:42,756 - deepsight.core.advisor.orchestrator - INFO - Step 3: Executing intelligence query...\n"
     ]
    },
    {
     "data": {
      "application/vnd.jupyter.widget-view+json": {
       "model_id": "1188b74a514747629f0e989a71f6e37d",
       "version_major": 2,
       "version_minor": 0
      },
      "text/plain": [
       "Output()"
      ]
     },
     "metadata": {},
     "output_type": "display_data"
    }
   ],
   "source": [
    "\"\"\"Example 1: Using the convenience function\"\"\"\n",
    "result = run_analysis(\n",
    "    run_id=run_id, tracking_uri=tracking_uri\n",
    ")\n",
    "logger.info(f\"Analysis completed: {result.success}\")\n",
    "logger.info(f\"Artifacts loaded: {len(result.artifacts_loaded)}\")\n",
    "logger.info(f\"Execution time: {result.execution_time:.2f}s\")"
   ]
  },
  {
   "cell_type": "markdown",
   "id": "f1918de8",
   "metadata": {},
   "source": [
    "### Example 2: Using full configuration"
   ]
  },
  {
   "cell_type": "code",
   "execution_count": null,
   "id": "74bb3152",
   "metadata": {},
   "outputs": [],
   "source": [
    "config = AdvisorConfig(\n",
    "    mlflow=MLflowConfig(\n",
    "        tracking_uri=tracking_uri,\n",
    "        run_id=run_id,\n",
    "    )\n",
    ")\n",
    "advisor = DeepSightAdvisor(config)\n",
    "result = advisor.run_analysis()\n",
    "logger.info(f\"Analysis completed: {result.success}\")\n",
    "logger.info(f\"Summary: {advisor.get_summary(result)}\")"
   ]
  },
  {
   "cell_type": "markdown",
   "id": "14114dc2",
   "metadata": {},
   "source": [
    "# Train image classifier\n",
    "\n",
    "This example demonstrates how to train a classification model using DeepSight's\n",
    "training framework with comprehensive monitoring and validation.\n",
    "\n",
    "Features demonstrated:\n",
    "- Dataset loading with embeddings\n",
    "- Model configuration and training\n",
    "- MLflow integration for experiment tracking\n",
    "- Deepchecks integration for data validation\n",
    "- Lightning integration for training orchestration\n",
    "\n",
    "Requirements:\n",
    "- MLflow server running on localhost:5000\n",
    "- Required datasets and embeddings available\n",
    "- CUDA-compatible GPU (optional, will fallback to CPU)\n",
    "\n",
    "Steps:\n",
    "1. Loads the dataset\n",
    "2. Configures the training parameters\n",
    "3. Sets up the model\n",
    "4. Configures monitoring and validation\n",
    "5. Runs the training process\n"
   ]
  },
  {
   "cell_type": "code",
   "execution_count": null,
   "id": "a75f0cc1",
   "metadata": {},
   "outputs": [],
   "source": [
    "from pathlib import Path\n",
    "from typing import Optional\n",
    "\n",
    "# DeepSight imports\n",
    "from deepsight.zoo.trainers.classification import (\n",
    "    ClassificationTrainer,\n",
    "    ClassificationTrainerConfig,\n",
    ")\n",
    "from deepsight.zoo.timm_models import TimmClassificationModel, ClassifierHead\n",
    "from deepsight.utils.feature_extractor import FeatureExtractor\n",
    "from deepsight.integrations.lightning import DeepSightCallback\n",
    "from deepsight.utils.config import DeepchecksConfig\n",
    "from deepsight.utils.logging import setup_logging, get_logger\n",
    "\n",
    "# Setup logging\n",
    "setup_logging(level=\"INFO\")\n",
    "logger = get_logger(__name__)\n",
    "\n",
    "# Configuration\n",
    "ROOT = Path(__file__).parents[1]\n",
    "DEBUG = True"
   ]
  },
  {
   "cell_type": "code",
   "execution_count": null,
   "id": "4b595b4d",
   "metadata": {},
   "outputs": [],
   "source": [
    "def load_food_dataset(embedding_model: Optional[FeatureExtractor] = None,split_size:str=\":500\"):\n",
    "    \"\"\"\n",
    "    Load the Food-101 dataset with optional embeddings.\n",
    "\n",
    "    Args:\n",
    "        embedding_model: Optional feature extractor for generating embeddings\n",
    "\n",
    "    Returns:\n",
    "        Tuple of (train_dataset, val_dataset)\n",
    "    \"\"\"\n",
    "    from deepsight.zoo.datasets.food import (\n",
    "        load_train_and_val_datasets,\n",
    "    )\n",
    "\n",
    "    # Load dataset with limited samples for faster training\n",
    "    train_dataset, val_dataset = load_train_and_val_datasets(\n",
    "        embedding_model=embedding_model,\n",
    "        num_workers=4,\n",
    "        split_size=split_size,\n",
    "        device=\"cpu\",\n",
    "        image_size=518,\n",
    "    )\n",
    "\n",
    "    logger.info(\n",
    "        f\"Loaded Food-101 dataset: {len(train_dataset)} train, {len(val_dataset)} val samples\"\n",
    "    )\n",
    "    return train_dataset, val_dataset\n"
   ]
  },
  {
   "cell_type": "code",
   "execution_count": null,
   "id": "a46e6a39",
   "metadata": {},
   "outputs": [],
   "source": [
    "logger.info(\"Starting DeepSight training example...\")\n",
    "\n",
    "# Load dataset\n",
    "embedding_model = None  # FeatureExtractor(model_name=\"timm/vit_base_patch14_reg4_dinov2.lvd142m\")\n",
    "train_dataset, val_dataset = load_food_dataset(embedding_model)"
   ]
  },
  {
   "cell_type": "code",
   "execution_count": null,
   "id": "da0ee4e3",
   "metadata": {},
   "outputs": [],
   "source": [
    "# Configure training parameters\n",
    "config = ClassificationTrainerConfig(\n",
    "    # Dataset configuration\n",
    "    num_classes=train_dataset.num_classes,\n",
    "    label_to_class_map=train_dataset.label_to_class_map,\n",
    "    # Data loading configuration\n",
    "    batch_size=8,\n",
    "    num_workers=4,\n",
    "    pin_memory=False,\n",
    "    # Hardware configuration\n",
    "    accelerator=\"auto\",  # Automatically detect GPU/CPU\n",
    "    precision=\"bf16-mixed\",  # Mixed precision for efficiency\n",
    "    # Validation configuration\n",
    "    val_check_interval=1,  # Validate every epoch\n",
    "    # Training hyperparameters\n",
    "    epochs=5,\n",
    "    label_smoothing=0.0,\n",
    "    lr=1e-3,  # Learning rate\n",
    "    lrf=1e-2,  # Final learning rate\n",
    "    weight_decay=5e-4,\n",
    "    reweight_classes=False,\n",
    "    # Monitoring configuration\n",
    "    monitor=\"val_f1score\",  # Metric to monitor for early stopping\n",
    "    patience=10,\n",
    "    min_delta=1e-3,\n",
    "    mode=\"max\",\n",
    "    # MLflow configuration\n",
    "    experiment_name=\"foodwaste_classification\",\n",
    "    run_name=\"default\",\n",
    "    log_best_model=True,\n",
    "    tracking_uri=\"http://localhost:5000\",\n",
    "    # Checkpoint configuration\n",
    "    dirpath=str(ROOT / \"checkpoints\"),\n",
    "    filename=\"best-{epoch:02d}\",\n",
    "    save_weights_only=True,\n",
    ")\n",
    "\n",
    "logger.info(\n",
    "    f\"Training configuration: {config.num_classes} classes, {config.epochs} epochs\"\n",
    ")"
   ]
  },
  {
   "cell_type": "code",
   "execution_count": null,
   "id": "84bf5c26",
   "metadata": {},
   "outputs": [],
   "source": [
    "# Initialize model\n",
    "model = TimmClassificationModel(\n",
    "    model_name=\"timm/mobilenetv4_hybrid_large.e600_r384_in1k\",\n",
    "    num_classes=train_dataset.num_classes,\n",
    "    freeze_backbone=True,  # Freeze pretrained backbone\n",
    "    hidden_dim=128,\n",
    "    num_layers=2,\n",
    "    dropout=0.2,\n",
    ")"
   ]
  },
  {
   "cell_type": "code",
   "execution_count": null,
   "id": "aec71167",
   "metadata": {},
   "outputs": [],
   "source": [
    "# Alternative: Use classifier head with embeddings\n",
    "# model = ClassifierHead(\n",
    "#     input_dim=embedding_model.feature_dim,\n",
    "#     num_classes=train_dataset.num_classes,\n",
    "#     num_layers=2,\n",
    "#     hidden_dim=384,\n",
    "#     dropout=0.2\n",
    "# )"
   ]
  },
  {
   "cell_type": "code",
   "execution_count": null,
   "id": "47f7823b",
   "metadata": {},
   "outputs": [],
   "source": [
    "logger.info(f\"Initialized model: {model.__class__.__name__}\")\n",
    "\n",
    "# Configure Deepchecks for data validation\n",
    "deepchecks_config = DeepchecksConfig(\n",
    "    train_test_validation=True,  # Validate train/test splits\n",
    "    data_integrity=True,  # Check data quality\n",
    "    save_results=True,  # Save validation results\n",
    "    output_dir=str(ROOT / \"deepchecks_results\"),\n",
    "    save_display=True,  # Save visualizations\n",
    "    parse_results=True,  # Parse results for analysis\n",
    "    batch_size=8,\n",
    "    model_evaluation=True,  # Evaluate model performance\n",
    "    max_samples=1000,  # Limit samples for faster processing\n",
    "    random_state=42,\n",
    ")\n",
    "\n",
    "# Setup DeepSight callback for monitoring\n",
    "deepsight_callback = DeepSightCallback(\n",
    "    config.model_dump(),\n",
    "    dataset_name=\"food101\",\n",
    "    deepchecks_config=deepchecks_config,\n",
    "    train_dataset=train_dataset,\n",
    "    val_dataset=val_dataset,\n",
    ")"
   ]
  },
  {
   "cell_type": "code",
   "execution_count": null,
   "id": "8f9e3dac",
   "metadata": {},
   "outputs": [],
   "source": [
    "from lightning import Trainer\n",
    "from deepsight.integrations.lightning import DeepSightCallback\n",
    "from deepsight.utils.config import DeepchecksConfig\n",
    "\n",
    "deepsight_callback = DeepSightCallback(\n",
    "    dataset_name=\"my-dataset\",\n",
    "    deepchecks_config=DeepchecksConfig(),\n",
    "    train_dataset=train_dataset,\n",
    "    val_dataset=val_dataset,\n",
    ")\n",
    "trainer = Trainer(\n",
    "            max_epochs=50,\n",
    "            callbacks=[deepsight_callback()],\n",
    "        )\n",
    "trainer.fit(model, train_dataset, val_dataset)"
   ]
  },
  {
   "cell_type": "code",
   "execution_count": null,
   "id": "c938ba38",
   "metadata": {},
   "outputs": [],
   "source": [
    "# Initialize trainer and run training\n",
    "trainer = ClassificationTrainer(config)\n",
    "logger.info(\"Starting training...\")\n",
    "\n",
    "trainer.run(\n",
    "    model=model,\n",
    "    train_dataset=train_dataset,\n",
    "    val_dataset=val_dataset,\n",
    "    deepsight_callback=deepsight_callback,\n",
    "    debug=DEBUG,\n",
    ")\n",
    "\n",
    "logger.info(\"Training completed successfully!\")"
   ]
  },
  {
   "cell_type": "code",
   "execution_count": null,
   "id": "c14c7a77",
   "metadata": {},
   "outputs": [],
   "source": []
  },
  {
   "cell_type": "code",
   "execution_count": null,
   "id": "85add363",
   "metadata": {},
   "outputs": [],
   "source": []
  },
  {
   "cell_type": "markdown",
   "id": "23814cba",
   "metadata": {},
   "source": [
    "# Creating prompts\n",
    "\n",
    "DeepSight Query Generation Example\n",
    "\n",
    "This example demonstrates how to generate prompts from artifacts\n",
    "using DeepSight's query generation system.\n",
    "\n",
    "Features demonstrated:\n",
    "- Artifact loading and management\n",
    "- Query generation from multiple artifacts\n",
    "- Integration with AI providers\n",
    "- Prompt building for analysis and insights\n",
    "\n",
    "Requirements:\n",
    "- MLflow server running on localhost:5000\n",
    "- Valid run_id with Deepchecks and Training artifacts\n",
    "\n",
    "Steps:\n",
    "1. Connects to MLflow and loads artifacts\n",
    "2. Generates intelligent prompts from artifact data\n",
    "3. Optionally executes queries using AI providers\n",
    "4. Displays generated prompts and responses"
   ]
  },
  {
   "cell_type": "code",
   "execution_count": null,
   "id": "cb2121dc",
   "metadata": {},
   "outputs": [],
   "source": [
    "import logging\n",
    "from pathlib import Path\n",
    "\n",
    "# DeepSight imports\n",
    "from deepsight.core.query import QueryGenerator\n",
    "from deepsight.core import ArtifactsManager\n",
    "from deepsight.integrations.mlflow import MLflowManager\n",
    "from deepsight.core.artifacts import ArtifactPaths\n",
    "from deepsight.utils.logging import setup_logging, get_logger"
   ]
  },
  {
   "cell_type": "code",
   "execution_count": null,
   "id": "30380093",
   "metadata": {},
   "outputs": [],
   "source": [
    "# Setup logging\n",
    "setup_logging(level=\"INFO\")\n",
    "logger = get_logger(__name__)"
   ]
  },
  {
   "cell_type": "code",
   "execution_count": null,
   "id": "175d4e1c",
   "metadata": {},
   "outputs": [],
   "source": [
    "logger.info(\"Starting DeepSight query generation example...\")\n",
    "\n",
    "run_id=\"07c04cc42fd9461e98f7eb0bf42444fb\",  # Replace with your run_id\n",
    "\n",
    "# Initialize MLflow manager\n",
    "mlflow_mgr = MLflowManager(\n",
    "    tracking_uri=\"http://localhost:5000\",\n",
    "    run_id=run_id, \n",
    "    dwnd_dir=\"tmp\",\n",
    ")\n",
    "\n",
    "logger.info(f\"Connected to MLflow at: {mlflow_mgr.tracking_uri}\")\n",
    "logger.info(f\"Using run_id: {mlflow_mgr.run_id}\")\n",
    "\n",
    "# Initialize artifact manager\n",
    "artifacts_mgr = ArtifactsManager(\n",
    "    sqlite_path=\"tmp/artifacts.db\",\n",
    "    mlflow_manager=mlflow_mgr,\n",
    ")\n",
    "\n",
    "logger.info(\"Initialized artifact manager\")\n",
    "\n",
    "# Load Deepchecks artifacts\n",
    "logger.info(\"Loading Deepchecks artifacts...\")\n",
    "artifacts = []\n",
    "for key in [ArtifactPaths.DEEPCHECKS,ArtifactPaths.TRAINING]:\n",
    "    art = artifacts_mgr.load_artifact(\n",
    "        run_id=run_id,\n",
    "        artifact_key=key,\n",
    "        download_if_missing=True,\n",
    "    )\n",
    "    artifacts.append(art)\n",
    "    \n",
    "logger.info(\"Artifacts loaded successfully!\")\n",
    "\n"
   ]
  },
  {
   "cell_type": "code",
   "execution_count": null,
   "id": "75998966",
   "metadata": {},
   "outputs": [],
   "source": [
    "# Generate query from artifacts\n",
    "logger.info(\"Generating query from artifacts...\")\n",
    "query_generator = QueryGenerator()\n",
    "prompt = query_generator.build_prompt(artifacts=artifacts)"
   ]
  },
  {
   "cell_type": "code",
   "execution_count": null,
   "id": "98f24341",
   "metadata": {},
   "outputs": [],
   "source": [
    "prompt"
   ]
  },
  {
   "cell_type": "markdown",
   "id": "a60358c9",
   "metadata": {},
   "source": [
    "# Artifact management\n",
    "\n",
    "This example demonstrates how to manage and retrieve artifacts from MLflow\n",
    "using DeepSight's artifact management system.\n",
    "\n",
    "Features demonstrated:\n",
    "- MLflow integration for artifact tracking\n",
    "- Artifact registration and retrieval\n",
    "- Local caching and download management\n",
    "- Artifact metadata and content access\n",
    "\n",
    "Usage:\n",
    "    python examples/run_artifact_manager.py\n",
    "\n",
    "Requirements:\n",
    "- MLflow server running on localhost:5000\n",
    "- Valid run_id with artifacts\n",
    "- SQLite database for local caching\n",
    "\n",
    "Steps:\n",
    "1. Connects to MLflow tracking server\n",
    "2. Initializes artifact manager with local caching\n",
    "3. Demonstrates artifact registration and retrieval\n",
    "4. Shows how to access artifact content and metadata"
   ]
  },
  {
   "cell_type": "code",
   "execution_count": null,
   "id": "ce56c7ee",
   "metadata": {},
   "outputs": [],
   "source": [
    "from deepsight.core import ArtifactsManager\n",
    "from deepsight.integrations.mlflow import MLflowManager\n",
    "from deepsight.core.artifacts import ArtifactPaths\n",
    "from deepsight.utils.logging import setup_logging, get_logger\n",
    "\n",
    "# Setup logging\n",
    "setup_logging(level=\"INFO\")\n",
    "logger = get_logger(__name__)"
   ]
  },
  {
   "cell_type": "code",
   "execution_count": null,
   "id": "c6ab467d",
   "metadata": {},
   "outputs": [],
   "source": [
    "logger.info(\"Starting DeepSight artifact management example...\")\n",
    "\n",
    "run_id=\"07c04cc42fd9461e98f7eb0bf42444fb\",  # Replace with your run_id\n",
    "\n",
    "# Initialize MLflow manager\n",
    "mlflow_mgr = MLflowManager(\n",
    "    tracking_uri=\"http://localhost:5000\",\n",
    "    run_id=run_id,\n",
    "    dwnd_dir=\"tmp\",  # Local download directory\n",
    ")\n",
    "\n",
    "logger.info(f\"Connected to MLflow at: {mlflow_mgr.tracking_uri}\")\n",
    "logger.info(f\"Using run_id: {mlflow_mgr.run_id}\")\n",
    "\n",
    "# Initialize artifact manager with local SQLite cache\n",
    "artifacts_mgr = ArtifactsManager(\n",
    "    sqlite_path=\"tmp/artifacts.db\",\n",
    "    mlflow_manager=mlflow_mgr,\n",
    ")\n",
    "\n",
    "logger.info(\"Initialized artifact manager with local caching\")"
   ]
  },
  {
   "cell_type": "code",
   "execution_count": null,
   "id": "8cbc9619",
   "metadata": {},
   "outputs": [],
   "source": [
    "artifact_key = ArtifactPaths.TRAINING  # Replace with actual artifact key"
   ]
  },
  {
   "cell_type": "code",
   "execution_count": null,
   "id": "1eca0e80",
   "metadata": {},
   "outputs": [],
   "source": [
    "# Example 1: Register and download artifacts\n",
    "artifacts_mgr.register_artifact(\n",
    "     run_id=mlflow_mgr.run_id,\n",
    "     artifact_key=artifact_key\n",
    ")"
   ]
  },
  {
   "cell_type": "code",
   "execution_count": null,
   "id": "cb4dfb90",
   "metadata": {},
   "outputs": [],
   "source": [
    "# Example 2: Load training artifacts\n",
    "logger.info(\"Loading training artifacts...\")\n",
    "artifact = artifacts_mgr.load_artifact(\n",
    "    run_id=mlflow_mgr.run_id,\n",
    "    artifact_key=artifact_key,\n",
    "    download_if_missing=True,\n",
    ")"
   ]
  },
  {
   "cell_type": "code",
   "execution_count": null,
   "id": "a3236c57",
   "metadata": {},
   "outputs": [],
   "source": [
    "# Display artifact information\n",
    "artifact_dict = artifact.to_dict()\n",
    "logger.info(\"Training artifact loaded successfully!\")\n",
    "logger.info(f\"Artifact type: {type(artifact).__name__}\")\n",
    "logger.info(\n",
    "    f\"Artifact keys: {list(artifact_dict.keys()) if isinstance(artifact_dict, dict) else 'N/A'}\"\n",
    ")\n",
    "\n",
    "# Print artifact content (be careful with large artifacts)\n",
    "print(\"\\n\" + \"=\" * 50)\n",
    "print(\"ARTIFACT CONTENT:\")\n",
    "print(\"=\" * 50)\n",
    "print(artifact_dict)\n",
    "\n",
    "logger.info(\"Artifact management example completed successfully!\")"
   ]
  },
  {
   "cell_type": "markdown",
   "id": "1ef14467",
   "metadata": {},
   "source": [
    "# Run suite of checks\n",
    "\n",
    "This example demonstrates how to run **comprehensive data validation suites**\n",
    "using Deepchecks integration with DeepSight.\n",
    "\n",
    "Features demonstrated:\n",
    "- Data integrity validation\n",
    "- Train/test validation\n",
    "- Model evaluation (optional)\n",
    "- Result parsing and analysis\n",
    "- Integration with CLIP models for vision tasks\n",
    "\n",
    "\n",
    "Requirements:\n",
    "- Required datasets available\n",
    "- Deepchecks installed\n",
    "- Optional: CLIP model for advanced validation\n",
    "\n",
    "Steps:\n",
    "1. Loads the dataset and label mappings\n",
    "2. Configures Deepchecks validation\n",
    "3. Optionally sets up a CLIP model for advanced validation\n",
    "4. Runs validation suites\n",
    "5. Returns parsed results"
   ]
  },
  {
   "cell_type": "code",
   "execution_count": null,
   "id": "3fd9d791",
   "metadata": {},
   "outputs": [],
   "source": [
    "# DeepSight imports\n",
    "from deepsight.zoo.datasets.foodwaste import (\n",
    "    get_label_mapping,\n",
    "    translations_de_en,\n",
    "    load_train_and_val_datasets,\n",
    ")\n",
    "from deepsight.zoo.timm_models import CLIPModel\n",
    "from deepsight.core.data import ClassificationVisionDataLoader\n",
    "from deepsight.integrations import DeepchecksRunner\n",
    "from deepsight.utils import DeepchecksConfig\n",
    "from deepsight.utils.logging import setup_logging, get_logger\n",
    "\n",
    "# Setup logging\n",
    "setup_logging(level=\"INFO\")\n",
    "logger = get_logger(__name__)"
   ]
  },
  {
   "cell_type": "code",
   "execution_count": null,
   "id": "d916cfeb",
   "metadata": {},
   "outputs": [],
   "source": [
    "logger.info(\"Starting DeepSight data validation example...\")\n",
    "\n",
    "# Load dataset and label mappings\n",
    "ing2name, ing2label = get_label_mapping()\n",
    "train_dataset, val_dataset = load_train_and_val_datasets(image_size=1024)\n",
    "\n",
    "# Prepare ingredient names for CLIP model (if used)\n",
    "ingredients_en = [\"a \" + translations_de_en[t] for t in ing2name.values()]\n",
    "\n",
    "logger.info(\n",
    "    f\"Loaded dataset: {len(train_dataset)} train, {len(val_dataset)} val samples\"\n",
    ")\n",
    "logger.info(f\"Number of classes: {len(ing2name)}\")\n",
    "\n",
    "# Configure Deepchecks validation\n",
    "config = DeepchecksConfig(\n",
    "    train_test_validation=True,  # Validate train/test distribution\n",
    "    data_integrity=True,  # Check data quality and integrity\n",
    "    model_evaluation=False,  # Skip model evaluation for data-only validation\n",
    "    save_results=True,  # Save results to disk\n",
    "    save_display=False,  # Skip saving visualizations\n",
    "    save_results_format=\"json\",  # Save in JSON format\n",
    "    parse_results=True,  # Parse results for analysis\n",
    "    output_dir=\"results\",  # Output directory\n",
    ")\n",
    "\n",
    "# Initialize Deepchecks runner\n",
    "runner = DeepchecksRunner(config)\n",
    "logger.info(\"Initialized Deepchecks runner\")"
   ]
  },
  {
   "cell_type": "code",
   "execution_count": null,
   "id": "ec73bb91",
   "metadata": {},
   "outputs": [],
   "source": [
    "# Optional: Initialize CLIP model for advanced validation\n",
    "model = None  # CLIPModel('PE-Core-T-16-384', ingredients_en)\n",
    "if model is not None:\n",
    "    logger.info(\"Using CLIP model for advanced validation\")\n",
    "else:\n",
    "    logger.info(\"Running validation without model (data-only checks)\")\n",
    "\n",
    "# Prepare data loaders for Deepchecks\n",
    "vision_train_data = ClassificationVisionDataLoader.load_from_dataset(\n",
    "    train_dataset, batch_size=8, shuffle=True, model=model\n",
    ")\n",
    "vision_test_data = ClassificationVisionDataLoader.load_from_dataset(\n",
    "    val_dataset, batch_size=8, shuffle=True, model=model\n",
    ")"
   ]
  },
  {
   "cell_type": "code",
   "execution_count": null,
   "id": "0edeeb61",
   "metadata": {},
   "outputs": [],
   "source": [
    "logger.info(\"Running validation suites...\")\n",
    "\n",
    "# Run validation suites\n",
    "results = runner.run_suites(\n",
    "    train_data=vision_train_data, test_data=vision_test_data\n",
    ")\n",
    "\n",
    "logger.info(\"Validation completed successfully!\")\n",
    "logger.info(f\"Results saved to: {config.output_dir}\")"
   ]
  },
  {
   "cell_type": "code",
   "execution_count": null,
   "id": "e00dbc3f",
   "metadata": {},
   "outputs": [],
   "source": []
  }
 ],
 "metadata": {
  "kernelspec": {
   "display_name": "deepsight",
   "language": "python",
   "name": "python3"
  },
  "language_info": {
   "codemirror_mode": {
    "name": "ipython",
    "version": 3
   },
   "file_extension": ".py",
   "mimetype": "text/x-python",
   "name": "python",
   "nbconvert_exporter": "python",
   "pygments_lexer": "ipython3",
   "version": "3.11.13"
  }
 },
 "nbformat": 4,
 "nbformat_minor": 5
}
