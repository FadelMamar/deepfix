{
 "cells": [
  {
   "cell_type": "code",
   "execution_count": 5,
   "id": "d00892f7",
   "metadata": {},
   "outputs": [],
   "source": [
    "from deepsight.zoo.foodwaste import create_classification_dataset,get_label_mapping\n",
    "from deepsight.core.data import ClassificationVisionDataLoader\n",
    "from deepsight.integrations import DeepchecksRunner\n",
    "from deepsight.utils import DeepchecksConfig\n",
    "from deepsight.zoo.timm_models import CLIPModel\n",
    "import json"
   ]
  },
  {
   "cell_type": "code",
   "execution_count": 6,
   "id": "9a9491d2",
   "metadata": {},
   "outputs": [
    {
     "name": "stderr",
     "output_type": "stream",
     "text": [
      "Getting label mapping: 100%|██████████| 375/375 [00:03<00:00, 94.46it/s] \n"
     ]
    }
   ],
   "source": [
    "ing2name, ing2label = get_label_mapping()"
   ]
  },
  {
   "cell_type": "code",
   "execution_count": 7,
   "id": "a4e5071b",
   "metadata": {},
   "outputs": [
    {
     "data": {
      "text/plain": [
       "OrderedDict([(90169064, 'dressing_portion'),\n",
       "             (90284505, 'sauerkraut'),\n",
       "             (90764221, 'eisbergsalat'),\n",
       "             (90776750, 'paprika'),\n",
       "             (90799084, 'reibekuchen'),\n",
       "             (91366696, 'rotkohl'),\n",
       "             (91369326, 'zucchini'),\n",
       "             (91388363, 'pilze'),\n",
       "             (91412043, 'linsen'),\n",
       "             (91428454, 'apfelmus'),\n",
       "             (91428764, 'sahne'),\n",
       "             (91434330, 'grüne_bohnen'),\n",
       "             (91434357, 'blumenkohl'),\n",
       "             (91511750, 'erbsen'),\n",
       "             (91511769, 'möhre'),\n",
       "             (91511777, 'reis'),\n",
       "             (91511785, 'kartoffelwürfel'),\n",
       "             (91511793, 'kartoffeln'),\n",
       "             (91511823, 'braune_sauce'),\n",
       "             (91511831, 'helle_sauce'),\n",
       "             (91533770, 'wirsing'),\n",
       "             (91533800, 'hähnchen'),\n",
       "             (91539999, 'hähnchenstreifen'),\n",
       "             (91551949, 'bratenjus'),\n",
       "             (91555332, 'zwiebel'),\n",
       "             (91560638, 'semmelknödel'),\n",
       "             (91562770, 'rinderbraten'),\n",
       "             (91562779, 'schweinenackenbraten'),\n",
       "             (91606492, 'schinken_mettwurst'),\n",
       "             (91613413, 'rostbratwurst'),\n",
       "             (91613421, 'schnitzel'),\n",
       "             (91614665, 'pflanzencreme'),\n",
       "             (91622080, 'seelachs'),\n",
       "             (91710370, 'eierspätzle'),\n",
       "             (91862294, 'kartoffelpüree'),\n",
       "             (93472523, 'fleischbällchen_gebrüht'),\n",
       "             (93709884, 'paniertes_fischfilet'),\n",
       "             (93847519, 'linseneintopf'),\n",
       "             (93858693, 'tomaten-curry-sauce'),\n",
       "             (93858715, 'malzbier-senf-sauce'),\n",
       "             (98176270, 'krautsalat')])"
      ]
     },
     "execution_count": 7,
     "metadata": {},
     "output_type": "execute_result"
    }
   ],
   "source": [
    "ing2name"
   ]
  },
  {
   "cell_type": "code",
   "execution_count": 8,
   "id": "738793d2",
   "metadata": {},
   "outputs": [
    {
     "data": {
      "text/plain": [
       "OrderedDict([(90169064, 0),\n",
       "             (90284505, 1),\n",
       "             (90764221, 2),\n",
       "             (90776750, 3),\n",
       "             (90799084, 4),\n",
       "             (91366696, 5),\n",
       "             (91369326, 6),\n",
       "             (91388363, 7),\n",
       "             (91412043, 8),\n",
       "             (91428454, 9),\n",
       "             (91428764, 10),\n",
       "             (91434330, 11),\n",
       "             (91434357, 12),\n",
       "             (91511750, 13),\n",
       "             (91511769, 14),\n",
       "             (91511777, 15),\n",
       "             (91511785, 16),\n",
       "             (91511793, 17),\n",
       "             (91511823, 18),\n",
       "             (91511831, 19),\n",
       "             (91533770, 20),\n",
       "             (91533800, 21),\n",
       "             (91539999, 22),\n",
       "             (91551949, 23),\n",
       "             (91555332, 24),\n",
       "             (91560638, 25),\n",
       "             (91562770, 26),\n",
       "             (91562779, 27),\n",
       "             (91606492, 28),\n",
       "             (91613413, 29),\n",
       "             (91613421, 30),\n",
       "             (91614665, 31),\n",
       "             (91622080, 32),\n",
       "             (91710370, 33),\n",
       "             (91862294, 34),\n",
       "             (93472523, 35),\n",
       "             (93709884, 36),\n",
       "             (93847519, 37),\n",
       "             (93858693, 38),\n",
       "             (93858715, 39),\n",
       "             (98176270, 40)])"
      ]
     },
     "execution_count": 8,
     "metadata": {},
     "output_type": "execute_result"
    }
   ],
   "source": [
    "ing2label"
   ]
  },
  {
   "cell_type": "code",
   "execution_count": 9,
   "id": "876d0ace",
   "metadata": {},
   "outputs": [],
   "source": [
    "train_dataset = create_classification_dataset(ing2label,split='train',image_size=1024)\n",
    "test_dataset = create_classification_dataset(ing2label,split='test',image_size=1024)"
   ]
  },
  {
   "cell_type": "code",
   "execution_count": 10,
   "id": "d79b2bb3",
   "metadata": {},
   "outputs": [
    {
     "data": {
      "text/plain": [
       "(160, 215)"
      ]
     },
     "execution_count": 10,
     "metadata": {},
     "output_type": "execute_result"
    }
   ],
   "source": [
    "len(test_dataset), len(train_dataset)"
   ]
  },
  {
   "cell_type": "code",
   "execution_count": 11,
   "id": "0f3c5ce7",
   "metadata": {},
   "outputs": [],
   "source": [
    "img,label = train_dataset[0]"
   ]
  },
  {
   "cell_type": "code",
   "execution_count": 12,
   "id": "7d81b952",
   "metadata": {},
   "outputs": [
    {
     "data": {
      "text/plain": [
       "['dressing_portion',\n",
       " 'sauerkraut',\n",
       " 'eisbergsalat',\n",
       " 'paprika',\n",
       " 'reibekuchen',\n",
       " 'rotkohl',\n",
       " 'zucchini',\n",
       " 'pilze',\n",
       " 'linsen',\n",
       " 'apfelmus',\n",
       " 'sahne',\n",
       " 'grüne_bohnen',\n",
       " 'blumenkohl',\n",
       " 'erbsen',\n",
       " 'möhre',\n",
       " 'reis',\n",
       " 'kartoffelwürfel',\n",
       " 'kartoffeln',\n",
       " 'braune_sauce',\n",
       " 'helle_sauce',\n",
       " 'wirsing',\n",
       " 'hähnchen',\n",
       " 'hähnchenstreifen',\n",
       " 'bratenjus',\n",
       " 'zwiebel',\n",
       " 'semmelknödel',\n",
       " 'rinderbraten',\n",
       " 'schweinenackenbraten',\n",
       " 'schinken_mettwurst',\n",
       " 'rostbratwurst',\n",
       " 'schnitzel',\n",
       " 'pflanzencreme',\n",
       " 'seelachs',\n",
       " 'eierspätzle',\n",
       " 'kartoffelpüree',\n",
       " 'fleischbällchen_gebrüht',\n",
       " 'paniertes_fischfilet',\n",
       " 'linseneintopf',\n",
       " 'tomaten-curry-sauce',\n",
       " 'malzbier-senf-sauce',\n",
       " 'krautsalat']"
      ]
     },
     "execution_count": 12,
     "metadata": {},
     "output_type": "execute_result"
    }
   ],
   "source": [
    "ingredients = list(ing2name.values())\n",
    "ingredients"
   ]
  },
  {
   "cell_type": "code",
   "execution_count": 13,
   "id": "8bf80044",
   "metadata": {},
   "outputs": [],
   "source": [
    "model = CLIPModel('PE-Core-T-16-384',ingredients)"
   ]
  },
  {
   "cell_type": "code",
   "execution_count": 14,
   "id": "9c9d474a",
   "metadata": {},
   "outputs": [
    {
     "data": {
      "text/plain": [
       "tensor([15])"
      ]
     },
     "execution_count": 14,
     "metadata": {},
     "output_type": "execute_result"
    }
   ],
   "source": [
    "probs = model.predict(img.unsqueeze(0))\n",
    "probs"
   ]
  },
  {
   "cell_type": "code",
   "execution_count": 17,
   "id": "f485c9c5",
   "metadata": {},
   "outputs": [
    {
     "data": {
      "text/plain": [
       "(15, 21)"
      ]
     },
     "execution_count": 17,
     "metadata": {},
     "output_type": "execute_result"
    }
   ],
   "source": [
    "probs.item(), label"
   ]
  },
  {
   "cell_type": "code",
   "execution_count": 16,
   "id": "7c1f28e7",
   "metadata": {},
   "outputs": [],
   "source": [
    "vision_train_data = ClassificationVisionDataLoader.load_from_dataset(train_dataset,batch_size=8,shuffle=True,model=model)\n",
    "vision_test_data = ClassificationVisionDataLoader.load_from_dataset(test_dataset,batch_size=8,shuffle=True,model=model)"
   ]
  },
  {
   "cell_type": "code",
   "execution_count": null,
   "id": "0dea1b8f",
   "metadata": {},
   "outputs": [],
   "source": []
  },
  {
   "cell_type": "code",
   "execution_count": 17,
   "id": "d620e817",
   "metadata": {},
   "outputs": [],
   "source": [
    "config = DeepchecksConfig(train_test_validation=True,\n",
    "                            data_integrity=True,\n",
    "                            model_evaluation=True,\n",
    "                            save_results=True,\n",
    "                            save_display=False,\n",
    "                            save_results_format='json',\n",
    "                            output_dir='results')\n",
    "                            \n",
    "checks_runner = DeepchecksRunner(config)"
   ]
  },
  {
   "cell_type": "code",
   "execution_count": null,
   "id": "f83b2301",
   "metadata": {},
   "outputs": [
    {
     "data": {
      "text/html": [
       "\n",
       "    <style>\n",
       "        progress {\n",
       "            -webkit-appearance: none;\n",
       "            border: none;\n",
       "            border-radius: 3px;\n",
       "            width: 300px;\n",
       "            height: 20px;\n",
       "            vertical-align: middle;\n",
       "            margin-right: 10px;\n",
       "            background-color: aliceblue;\n",
       "        }\n",
       "        progress::-webkit-progress-bar {\n",
       "            border-radius: 3px;\n",
       "            background-color: aliceblue;\n",
       "        }\n",
       "        progress::-webkit-progress-value {\n",
       "            background-color: #9d60fb;\n",
       "        }\n",
       "        progress::-moz-progress-bar {\n",
       "            background-color: #9d60fb;\n",
       "        }\n",
       "    </style>\n",
       "    "
      ]
     },
     "metadata": {},
     "output_type": "display_data"
    },
    {
     "data": {
      "text/html": [
       "\n",
       "            <div>\n",
       "                <label>\n",
       "                    Processing Batches:Train:<br/>\n",
       "                    <progress\n",
       "                        value='0'\n",
       "                        max='1'\n",
       "                        class='deepchecks'\n",
       "                    >\n",
       "                    </progress>\n",
       "                </label>\n",
       "                <span>0/1 [Time: 00:00]</span>\n",
       "            </div>\n",
       "        "
      ]
     },
     "metadata": {},
     "output_type": "display_data"
    }
   ],
   "source": [
    "results = checks_runner.run_suites(train_data=vision_train_data,test_data=vision_test_data)"
   ]
  },
  {
   "cell_type": "code",
   "execution_count": 11,
   "id": "bbfc370a",
   "metadata": {},
   "outputs": [
    {
     "data": {
      "text/plain": [
       "{'train_test_validation': Train Test Validation Suite,\n",
       " 'data_integrity': Data Integrity Suite}"
      ]
     },
     "execution_count": 11,
     "metadata": {},
     "output_type": "execute_result"
    }
   ],
   "source": [
    "results"
   ]
  },
  {
   "cell_type": "code",
   "execution_count": 16,
   "id": "c8113ea9",
   "metadata": {},
   "outputs": [],
   "source": [
    "result = results['data_integrity']"
   ]
  },
  {
   "cell_type": "code",
   "execution_count": 19,
   "id": "819d1a65",
   "metadata": {},
   "outputs": [
    {
     "data": {
      "text/plain": [
       "[Image Property Outliers: {'Aspect Ratio': {'outliers_identifiers': [], 'lower_limit': np.float64(1.0), 'upper_limit': np.float64(1.0)}, 'Area': {'outliers_identifiers': [], 'lower_limit': np.float64(1048576.0), 'upper_limit': np.float64(1048576.0)}, 'Brightness': {'outliers_identifiers': array(['7', '0', '1', '2', '2', '5', '9', '13', '8', '9', '17', '20',\n",
       "        '21', '18', '20', '17', '18', '21'], dtype='<U3'), 'lower_limit': np.float64(167.70577639374997), 'upper_limit': np.float64(183.91261626375004)}, 'RMS Contrast': {'outliers_identifiers': [], 'lower_limit': np.float64(43.17277834778543), 'upper_limit': np.float64(83.74600604769405)}, 'Mean Red Relative Intensity': {'outliers_identifiers': [], 'lower_limit': np.float64(0.3241544530997467), 'upper_limit': np.float64(0.3448062138589889)}, 'Mean Green Relative Intensity': {'outliers_identifiers': array(['2', '6', '7', '14', '15', '10', '8', '11', '15', '19', '19', '23'],\n",
       "       dtype='<U3'), 'lower_limit': np.float64(0.33104706561319486), 'upper_limit': np.float64(0.33764810426945513)}, 'Mean Blue Relative Intensity': {'outliers_identifiers': [], 'lower_limit': np.float64(0.3205522659766392), 'upper_limit': np.float64(0.3414544062044667)}},\n",
       " Image Property Outliers: {'Aspect Ratio': {'outliers_identifiers': [], 'lower_limit': np.float64(1.0), 'upper_limit': np.float64(1.0)}, 'Area': {'outliers_identifiers': [], 'lower_limit': np.float64(1048576.0), 'upper_limit': np.float64(1048576.0)}, 'Brightness': {'outliers_identifiers': [], 'lower_limit': np.float64(154.68853089), 'upper_limit': np.float64(191.66326797999997)}, 'RMS Contrast': {'outliers_identifiers': [], 'lower_limit': np.float64(36.07830767423343), 'upper_limit': np.float64(68.56352876858415)}, 'Mean Red Relative Intensity': {'outliers_identifiers': [], 'lower_limit': np.float64(0.34187218650299317), 'upper_limit': np.float64(0.3671119846084395)}, 'Mean Green Relative Intensity': {'outliers_identifiers': array(['1', '6', '6', '7', '7', '12', '14', '11', '20', '23', '21', '30',\n",
       "        '31', '25', '31', '31', '26', '30'], dtype='<U3'), 'lower_limit': np.float64(0.3337181345155666), 'upper_limit': np.float64(0.3426393617550419)}, 'Mean Blue Relative Intensity': {'outliers_identifiers': [], 'lower_limit': np.float64(0.29230199948241814), 'upper_limit': np.float64(0.3248187090596368)}},\n",
       " Property Label Correlation: {'Aspect Ratio': 0, 'Area': 0, 'Brightness': 0, 'RMS Contrast': 0, 'Mean Red Relative Intensity': 0, 'Mean Green Relative Intensity': 0, 'Mean Blue Relative Intensity': 0},\n",
       " Property Label Correlation: {'Aspect Ratio': 0, 'Area': 0, 'Brightness': 0, 'RMS Contrast': 0, 'Mean Red Relative Intensity': 0, 'Mean Green Relative Intensity': 0, 'Mean Blue Relative Intensity': 0},\n",
       " Label Property Outliers: task type classification does not have default label properties for label outliers.,\n",
       " Label Property Outliers: task type classification does not have default label properties for label outliers.]"
      ]
     },
     "execution_count": 19,
     "metadata": {},
     "output_type": "execute_result"
    }
   ],
   "source": [
    "result.results "
   ]
  },
  {
   "cell_type": "code",
   "execution_count": 20,
   "id": "4a932c58",
   "metadata": {},
   "outputs": [
    {
     "data": {
      "text/plain": [
       "[deepchecks.core.check_result.CheckResult,\n",
       " deepchecks.core.check_result.CheckResult,\n",
       " deepchecks.core.check_result.CheckResult,\n",
       " deepchecks.core.check_result.CheckResult,\n",
       " deepchecks.core.check_result.CheckFailure,\n",
       " deepchecks.core.check_result.CheckFailure]"
      ]
     },
     "execution_count": 20,
     "metadata": {},
     "output_type": "execute_result"
    }
   ],
   "source": [
    "[type(r) for r in result.results]"
   ]
  },
  {
   "cell_type": "code",
   "execution_count": 30,
   "id": "66850a1b",
   "metadata": {},
   "outputs": [
    {
     "data": {
      "text/plain": [
       "{'header': 'Label Property Outliers',\n",
       " 'type': 'CheckFailure',\n",
       " 'check': {'name': 'Label Property Outliers',\n",
       "  'params': {'n_show_top': 3,\n",
       "   'iqr_percentiles': [25, 75],\n",
       "   'iqr_scale': 1.5,\n",
       "   'min_samples': 10,\n",
       "   'n_samples': 10000},\n",
       "  'summary': 'Find outliers labels with respect to the given properties.'},\n",
       " 'exception': 'task type classification does not have default label properties for label outliers.'}"
      ]
     },
     "execution_count": 30,
     "metadata": {},
     "output_type": "execute_result"
    }
   ],
   "source": [
    "json.loads(result.results[-1].to_json(with_display=False))"
   ]
  },
  {
   "cell_type": "code",
   "execution_count": 25,
   "id": "9cb8b972",
   "metadata": {},
   "outputs": [
    {
     "data": {
      "text/plain": [
       "['Image Property Outliers',\n",
       " 'Image Property Outliers',\n",
       " 'Property Label Correlation',\n",
       " 'Property Label Correlation',\n",
       " 'Label Property Outliers',\n",
       " 'Label Property Outliers']"
      ]
     },
     "execution_count": 25,
     "metadata": {},
     "output_type": "execute_result"
    }
   ],
   "source": [
    "[r.get_metadata().get('header') for r in result.results]"
   ]
  },
  {
   "cell_type": "code",
   "execution_count": null,
   "id": "1ab9fbe2",
   "metadata": {},
   "outputs": [
    {
     "data": {
      "text/plain": [
       "[str,\n",
       " str,\n",
       " plotly.graph_objs._figure.Figure,\n",
       " str,\n",
       " str,\n",
       " str,\n",
       " plotly.graph_objs._figure.Figure]"
      ]
     },
     "execution_count": 57,
     "metadata": {},
     "output_type": "execute_result"
    }
   ],
   "source": [
    "[type(r)  for r in result.results[5].display]"
   ]
  },
  {
   "cell_type": "code",
   "execution_count": 58,
   "id": "32f63d25",
   "metadata": {},
   "outputs": [
    {
     "data": {
      "text/plain": [
       "['\\n        <span>\\n        The shown features are the image properties (brightness, aspect ratio, etc.) that are most important for the\\n        domain classifier - the domain_classifier trained to distinguish between the train and test datasets.<br>\\n        </span>\\n        ',\n",
       " '\\n    <span>\\n    The percents of explained dataset difference are the importance values for the feature calculated\\n    using `permutation_importance`.\\n    </span><br><br>\\n    ',\n",
       " '<h3>Main features contributing to drift</h3>',\n",
       " 'Showing only the top 3 columns, you can change it using n_top_columns param',\n",
       " 'For discrete distribution plots, showing the top 10 categories with largest difference between train and test.']"
      ]
     },
     "execution_count": 58,
     "metadata": {},
     "output_type": "execute_result"
    }
   ],
   "source": [
    "[r for r in result.results[5].display if isinstance(r,str)]"
   ]
  },
  {
   "cell_type": "code",
   "execution_count": 55,
   "id": "9e40700e",
   "metadata": {},
   "outputs": [
    {
     "data": {
      "application/vnd.jupyter.widget-view+json": {
       "model_id": "4f01c2923e614785b24782f82c605d02",
       "version_major": 2,
       "version_minor": 0
      },
      "text/plain": [
       "VBox(children=(HTML(value='<h4><b>Heatmap Comparison</b></h4>'), HTML(value='<p>Check if the average image bri…"
      ]
     },
     "metadata": {},
     "output_type": "display_data"
    }
   ],
   "source": [
    "result.results[4] #.display[5]"
   ]
  },
  {
   "cell_type": "code",
   "execution_count": 37,
   "id": "eb4a501d",
   "metadata": {},
   "outputs": [
    {
     "data": {
      "image/png": "[encoded data removed]",
      "text/plain": [
       "<PIL.PngImagePlugin.PngImageFile image mode=RGBA size=700x500>"
      ]
     },
     "execution_count": 37,
     "metadata": {},
     "output_type": "execute_result"
    }
   ],
   "source": [
    "Image.open(image)"
   ]
  },
  {
   "cell_type": "code",
   "execution_count": 24,
   "id": "e9da9e1f",
   "metadata": {},
   "outputs": [
    {
     "data": {
      "text/plain": [
       "{'type': 'CheckResult',\n",
       " 'check': {'name': 'Label Drift',\n",
       "  'params': {'margin_quantile_filter': 0.025,\n",
       "   'max_num_categories_for_drift': None,\n",
       "   'min_category_size_ratio': 0.01,\n",
       "   'max_num_categories_for_display': 10,\n",
       "   'show_categories_by': 'largest_difference',\n",
       "   'numerical_drift_method': 'KS',\n",
       "   'categorical_drift_method': 'cramers_v',\n",
       "   'balance_classes': False,\n",
       "   'aggregation_method': None,\n",
       "   'min_samples': 10,\n",
       "   'n_samples': 10000},\n",
       "  'summary': '    Calculate label drift between train dataset and test dataset, using statistical measures. <a href=\"https://docs.deepchecks.com/0.19/vision/auto_checks/train_test_validation/plot_label_drift.html?utm_source=display_output&utm_medium=referral&utm_campaign=check_link\" target=\"_blank\">Read More...</a>'},\n",
       " 'header': 'Label Drift',\n",
       " 'value': {'Samples Per Class': {'Drift score': {'dtype': 'float64',\n",
       "    'value': 0.9209742449749333},\n",
       "   'Method': \"Cramer's V\"}},\n",
       " 'conditions_results': [{'Status': 'FAIL',\n",
       "   'Condition': 'categorical drift score < 0.15 and numerical drift score < 0.15',\n",
       "   'More Info': \"Failed for 1 out of 1 label properties.\\nFound 1 categorical label properties with Cramer's V above threshold: {'Samples Per Class': '0.92'}\"}],\n",
       " 'display': None}"
      ]
     },
     "execution_count": 24,
     "metadata": {},
     "output_type": "execute_result"
    }
   ],
   "source": [
    "json.loads(result.results[1].to_json(with_display=False))"
   ]
  },
  {
   "cell_type": "code",
   "execution_count": 62,
   "id": "da4a2464",
   "metadata": {},
   "outputs": [
    {
     "data": {
      "text/plain": [
       "'{\"type\": \"CheckResult\", \"check\": {\"name\": \"New Labels\", \"params\": {\"max_images_to_display_per_label\": 3, \"max_new_labels_to_display\": 3, \"n_samples\": 10000}, \"summary\": \"Detects labels that appear only in the test set. <a href=\\\\\"https://docs.deepchecks.com/0.19/vision/auto_checks/train_test_validation/plot_new_labels.html?utm_source=display_output&utm_medium=referral&utm_campaign=check_link\\\\\" target=\\\\\"_blank\\\\\">Read More...</a>\"}, \"header\": \"New Labels\", \"value\": {\"new_labels\": {\"36\": 40, \"39\": 40, \"28\": 40}, \"all_labels_count\": 160}, \"conditions_results\": [{\"Status\": \"FAIL\", \"Condition\": \"Percentage of new labels in the test set is less or equal to 0.5%\", \"More Info\": \"75% of labels found in test set were not in train set. New labels most common in test set: [\\'36\\', \\'39\\', \\'28\\']\"}], \"display\": null}'"
      ]
     },
     "execution_count": 62,
     "metadata": {},
     "output_type": "execute_result"
    }
   ],
   "source": [
    "result.results[0].to_json(with_display=False)"
   ]
  },
  {
   "cell_type": "code",
   "execution_count": 64,
   "id": "257b1afc",
   "metadata": {},
   "outputs": [
    {
     "data": {
      "text/plain": [
       "{'header': 'New Labels',\n",
       " 'name': 'New Labels',\n",
       " 'params': {'max_images_to_display_per_label': 3,\n",
       "  'max_new_labels_to_display': 3,\n",
       "  'n_samples': 10000},\n",
       " 'summary': 'Detects labels that appear only in the test set.'}"
      ]
     },
     "execution_count": 64,
     "metadata": {},
     "output_type": "execute_result"
    }
   ],
   "source": [
    "result.results[0].get_metadata()"
   ]
  },
  {
   "cell_type": "code",
   "execution_count": 96,
   "id": "afd43a9a",
   "metadata": {},
   "outputs": [
    {
     "data": {
      "text/plain": [
       "[{'details': \"75% of labels found in test set were not in train set. New labels most common in test set: ['36', '39', '28']\", 'category': <ConditionCategory.FAIL: 'FAIL'>, 'name': 'Percentage of new labels in the test set is less or equal to 0.5%'}]"
      ]
     },
     "execution_count": 96,
     "metadata": {},
     "output_type": "execute_result"
    }
   ],
   "source": [
    "result.results[0].conditions_results"
   ]
  },
  {
   "cell_type": "code",
   "execution_count": 88,
   "id": "1a409be4",
   "metadata": {},
   "outputs": [
    {
     "data": {
      "text/plain": [
       "{'type': 'CheckResult',\n",
       " 'check': {'name': 'New Labels',\n",
       "  'params': {'max_images_to_display_per_label': 3,\n",
       "   'max_new_labels_to_display': 3,\n",
       "   'n_samples': 10000},\n",
       "  'summary': 'Detects labels that appear only in the test set. <a href=\"https://docs.deepchecks.com/0.19/vision/auto_checks/train_test_validation/plot_new_labels.html?utm_source=display_output&utm_medium=referral&utm_campaign=check_link\" target=\"_blank\">Read More...</a>'},\n",
       " 'header': 'New Labels',\n",
       " 'value': {'new_labels': {'36': 40, '39': 40, '28': 40},\n",
       "  'all_labels_count': 160},\n",
       " 'conditions_results': [{'Status': 'FAIL',\n",
       "   'Condition': 'Percentage of new labels in the test set is less or equal to 0.5%',\n",
       "   'More Info': \"75% of labels found in test set were not in train set. New labels most common in test set: ['36', '39', '28']\"}],\n",
       " 'display': None}"
      ]
     },
     "execution_count": 88,
     "metadata": {},
     "output_type": "execute_result"
    }
   ],
   "source": [
    "json.loads(result.results[0].to_json(False))"
   ]
  },
  {
   "cell_type": "code",
   "execution_count": 57,
   "id": "ecaa65fd",
   "metadata": {},
   "outputs": [],
   "source": [
    "result.results[-1].display[6].write_image('out.png')"
   ]
  },
  {
   "cell_type": "code",
   "execution_count": 63,
   "id": "e978ec98",
   "metadata": {},
   "outputs": [
    {
     "data": {
      "text/plain": [
       "['__abstractmethods__',\n",
       " '__annotations__',\n",
       " '__class__',\n",
       " '__delattr__',\n",
       " '__dict__',\n",
       " '__dir__',\n",
       " '__doc__',\n",
       " '__eq__',\n",
       " '__format__',\n",
       " '__ge__',\n",
       " '__getattribute__',\n",
       " '__getstate__',\n",
       " '__gt__',\n",
       " '__hash__',\n",
       " '__init__',\n",
       " '__init_subclass__',\n",
       " '__le__',\n",
       " '__lt__',\n",
       " '__module__',\n",
       " '__ne__',\n",
       " '__new__',\n",
       " '__reduce__',\n",
       " '__reduce_ex__',\n",
       " '__repr__',\n",
       " '__setattr__',\n",
       " '__sizeof__',\n",
       " '__slots__',\n",
       " '__str__',\n",
       " '__subclasshook__',\n",
       " '__weakref__',\n",
       " '_abc_impl',\n",
       " '_ipython_display_',\n",
       " '_repr_html_',\n",
       " '_repr_json_',\n",
       " '_repr_mimebundle_',\n",
       " 'check',\n",
       " 'conditions_results',\n",
       " 'display',\n",
       " 'display_check',\n",
       " 'from_json',\n",
       " 'get_check_id',\n",
       " 'get_header',\n",
       " 'get_metadata',\n",
       " 'have_conditions',\n",
       " 'have_display',\n",
       " 'header',\n",
       " 'html_serializer',\n",
       " 'ipython_serializer',\n",
       " 'passed_conditions',\n",
       " 'priority',\n",
       " 'process_conditions',\n",
       " 'reduce_output',\n",
       " 'run_time',\n",
       " 'save_as_html',\n",
       " 'show',\n",
       " 'show_in_iframe',\n",
       " 'show_in_window',\n",
       " 'show_not_interactive',\n",
       " 'to_json',\n",
       " 'to_wandb',\n",
       " 'to_widget',\n",
       " 'value',\n",
       " 'widget_serializer']"
      ]
     },
     "execution_count": 63,
     "metadata": {},
     "output_type": "execute_result"
    }
   ],
   "source": [
    "dir(result.results[0])"
   ]
  },
  {
   "cell_type": "code",
   "execution_count": null,
   "id": "a10e5203",
   "metadata": {},
   "outputs": [],
   "source": [
    "results['train_test_validation']"
   ]
  }
 ],
 "metadata": {
  "kernelspec": {
   "display_name": ".venv",
   "language": "python",
   "name": "python3"
  },
  "language_info": {
   "codemirror_mode": {
    "name": "ipython",
    "version": 3
   },
   "file_extension": ".py",
   "mimetype": "text/x-python",
   "name": "python",
   "nbconvert_exporter": "python",
   "pygments_lexer": "ipython3",
   "version": "3.11.13"
  }
 },
 "nbformat": 4,
 "nbformat_minor": 5
}
