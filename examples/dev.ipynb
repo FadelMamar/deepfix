{
 "cells": [
  {
   "cell_type": "code",
   "execution_count": 1,
   "id": "d00892f7",
   "metadata": {},
   "outputs": [
    {
     "name": "stderr",
     "output_type": "stream",
     "text": [
      "/home/fadelco/workspace/deepsight/.venv/lib/python3.11/site-packages/deepchecks/core/serialization/dataframe/html.py:16: UserWarning:\n",
      "\n",
      "pkg_resources is deprecated as an API. See https://setuptools.pypa.io/en/latest/pkg_resources.html. The pkg_resources package is slated for removal as early as 2025-11-30. Refrain from using this package or pin to Setuptools<81.\n",
      "\n"
     ]
    }
   ],
   "source": [
    "from deepsight.zoo.foodwaste import create_classification_dataset,get_label_mapping,translations_de_en\n",
    "from deepsight.core.data import ClassificationVisionDataLoader\n",
    "from deepsight.integrations import DeepchecksRunner\n",
    "from deepsight.utils import DeepchecksConfig\n",
    "from deepsight.zoo.timm_models import CLIPModel\n",
    "\n",
    "import json"
   ]
  },
  {
   "cell_type": "code",
   "execution_count": 2,
   "id": "9a9491d2",
   "metadata": {},
   "outputs": [
    {
     "name": "stderr",
     "output_type": "stream",
     "text": [
      "Getting label mapping: 100%|██████████| 375/375 [00:04<00:00, 92.63it/s] \n"
     ]
    }
   ],
   "source": [
    "ing2name, ing2label = get_label_mapping()"
   ]
  },
  {
   "cell_type": "code",
   "execution_count": 3,
   "id": "a4e5071b",
   "metadata": {},
   "outputs": [
    {
     "data": {
      "text/plain": [
       "OrderedDict([(90169064, 'dressing_portion'),\n",
       "             (90284505, 'sauerkraut'),\n",
       "             (90764221, 'eisbergsalat'),\n",
       "             (90776750, 'paprika'),\n",
       "             (90799084, 'reibekuchen'),\n",
       "             (91366696, 'rotkohl'),\n",
       "             (91369326, 'zucchini'),\n",
       "             (91388363, 'pilze'),\n",
       "             (91412043, 'linsen'),\n",
       "             (91428454, 'apfelmus'),\n",
       "             (91428764, 'sahne'),\n",
       "             (91434330, 'grüne_bohnen'),\n",
       "             (91434357, 'blumenkohl'),\n",
       "             (91511750, 'erbsen'),\n",
       "             (91511769, 'möhre'),\n",
       "             (91511777, 'reis'),\n",
       "             (91511785, 'kartoffelwürfel'),\n",
       "             (91511793, 'kartoffeln'),\n",
       "             (91511823, 'braune_sauce'),\n",
       "             (91511831, 'helle_sauce'),\n",
       "             (91533770, 'wirsing'),\n",
       "             (91533800, 'hähnchen'),\n",
       "             (91539999, 'hähnchenstreifen'),\n",
       "             (91551949, 'bratenjus'),\n",
       "             (91555332, 'zwiebel'),\n",
       "             (91560638, 'semmelknödel'),\n",
       "             (91562770, 'rinderbraten'),\n",
       "             (91562779, 'schweinenackenbraten'),\n",
       "             (91606492, 'schinken_mettwurst'),\n",
       "             (91613413, 'rostbratwurst'),\n",
       "             (91613421, 'schnitzel'),\n",
       "             (91614665, 'pflanzencreme'),\n",
       "             (91622080, 'seelachs'),\n",
       "             (91710370, 'eierspätzle'),\n",
       "             (91862294, 'kartoffelpüree'),\n",
       "             (93472523, 'fleischbällchen_gebrüht'),\n",
       "             (93709884, 'paniertes_fischfilet'),\n",
       "             (93847519, 'linseneintopf'),\n",
       "             (93858693, 'tomaten-curry-sauce'),\n",
       "             (93858715, 'malzbier-senf-sauce'),\n",
       "             (98176270, 'krautsalat')])"
      ]
     },
     "execution_count": 3,
     "metadata": {},
     "output_type": "execute_result"
    }
   ],
   "source": [
    "ing2name"
   ]
  },
  {
   "cell_type": "code",
   "execution_count": 4,
   "id": "738793d2",
   "metadata": {},
   "outputs": [
    {
     "data": {
      "text/plain": [
       "OrderedDict([(90169064, 0),\n",
       "             (90284505, 1),\n",
       "             (90764221, 2),\n",
       "             (90776750, 3),\n",
       "             (90799084, 4),\n",
       "             (91366696, 5),\n",
       "             (91369326, 6),\n",
       "             (91388363, 7),\n",
       "             (91412043, 8),\n",
       "             (91428454, 9),\n",
       "             (91428764, 10),\n",
       "             (91434330, 11),\n",
       "             (91434357, 12),\n",
       "             (91511750, 13),\n",
       "             (91511769, 14),\n",
       "             (91511777, 15),\n",
       "             (91511785, 16),\n",
       "             (91511793, 17),\n",
       "             (91511823, 18),\n",
       "             (91511831, 19),\n",
       "             (91533770, 20),\n",
       "             (91533800, 21),\n",
       "             (91539999, 22),\n",
       "             (91551949, 23),\n",
       "             (91555332, 24),\n",
       "             (91560638, 25),\n",
       "             (91562770, 26),\n",
       "             (91562779, 27),\n",
       "             (91606492, 28),\n",
       "             (91613413, 29),\n",
       "             (91613421, 30),\n",
       "             (91614665, 31),\n",
       "             (91622080, 32),\n",
       "             (91710370, 33),\n",
       "             (91862294, 34),\n",
       "             (93472523, 35),\n",
       "             (93709884, 36),\n",
       "             (93847519, 37),\n",
       "             (93858693, 38),\n",
       "             (93858715, 39),\n",
       "             (98176270, 40)])"
      ]
     },
     "execution_count": 4,
     "metadata": {},
     "output_type": "execute_result"
    }
   ],
   "source": [
    "ing2label"
   ]
  },
  {
   "cell_type": "code",
   "execution_count": 5,
   "id": "876d0ace",
   "metadata": {},
   "outputs": [],
   "source": [
    "train_dataset = create_classification_dataset(ing2label,split='train',image_size=1024)\n",
    "test_dataset = create_classification_dataset(ing2label,split='test',image_size=1024)"
   ]
  },
  {
   "cell_type": "code",
   "execution_count": 6,
   "id": "d79b2bb3",
   "metadata": {},
   "outputs": [
    {
     "data": {
      "text/plain": [
       "(160, 215)"
      ]
     },
     "execution_count": 6,
     "metadata": {},
     "output_type": "execute_result"
    }
   ],
   "source": [
    "len(test_dataset), len(train_dataset)"
   ]
  },
  {
   "cell_type": "code",
   "execution_count": 7,
   "id": "0f3c5ce7",
   "metadata": {},
   "outputs": [],
   "source": [
    "img,label = train_dataset[0]"
   ]
  },
  {
   "cell_type": "code",
   "execution_count": 8,
   "id": "7d81b952",
   "metadata": {},
   "outputs": [
    {
     "data": {
      "text/plain": [
       "['a dressing_portion',\n",
       " 'a sauerkraut',\n",
       " 'a iceberg lettuce',\n",
       " 'a bell pepper',\n",
       " 'a potato pancakes',\n",
       " 'a red cabbage',\n",
       " 'a zucchini',\n",
       " 'a mushrooms',\n",
       " 'a lentils',\n",
       " 'a apple sauce',\n",
       " 'a cream',\n",
       " 'a green beans',\n",
       " 'a cauliflower',\n",
       " 'a peas',\n",
       " 'a carrots',\n",
       " 'a rice',\n",
       " 'a potato cubes',\n",
       " 'a potatoes',\n",
       " 'a brown sauce',\n",
       " 'a light sauce',\n",
       " 'a savoy cabbage',\n",
       " 'a chicken',\n",
       " 'a chicken strips',\n",
       " 'a gravy',\n",
       " 'a onion',\n",
       " 'a bread dumplings',\n",
       " 'a roast beef',\n",
       " 'a roast pork neck',\n",
       " 'a ham_mettwurst',\n",
       " 'a grilled sausage',\n",
       " 'a schnitzel',\n",
       " 'a vegetable cream',\n",
       " 'a pollock',\n",
       " 'a egg noodles',\n",
       " 'a mashed potatoes',\n",
       " 'a meatballs',\n",
       " 'a breaded fish fillet',\n",
       " 'a lentil stew',\n",
       " 'a tomato curry sauce',\n",
       " 'a malt beer mustard sauce',\n",
       " 'a coleslaw']"
      ]
     },
     "execution_count": 8,
     "metadata": {},
     "output_type": "execute_result"
    }
   ],
   "source": [
    "ingredients_de = list(ing2name.values())\n",
    "ingredients_en = [ \"a \" + translations_de_en[t] for t in ingredients_de]\n",
    "ingredients_en"
   ]
  },
  {
   "cell_type": "code",
   "execution_count": 7,
   "id": "8bf80044",
   "metadata": {},
   "outputs": [],
   "source": [
    "model = None # CLIPModel('PE-Core-T-16-384',ingredients_en)"
   ]
  },
  {
   "cell_type": "code",
   "execution_count": 10,
   "id": "9c9d474a",
   "metadata": {},
   "outputs": [
    {
     "data": {
      "text/plain": [
       "tensor([[9.3391e-04, 1.4655e-03, 7.5307e-04, 3.4291e-01, 1.1454e-04, 4.1445e-05,\n",
       "         2.4361e-03, 9.9012e-04, 1.5348e-03, 5.5049e-04, 3.3027e-02, 4.0798e-03,\n",
       "         1.5790e-03, 7.0954e-04, 1.7672e-02, 2.2658e-03, 4.4298e-04, 2.7294e-03,\n",
       "         1.2013e-01, 3.6962e-03, 1.0404e-04, 1.8082e-03, 6.5361e-05, 9.1589e-04,\n",
       "         2.8521e-03, 6.5165e-03, 3.2778e-03, 1.3159e-03, 3.5009e-04, 4.7281e-04,\n",
       "         1.4538e-07, 4.1156e-02, 4.9494e-04, 3.4038e-04, 1.9745e-02, 3.7362e-01,\n",
       "         7.0815e-07, 5.9885e-03, 1.1112e-03, 1.2724e-03, 5.3097e-04]])"
      ]
     },
     "execution_count": 10,
     "metadata": {},
     "output_type": "execute_result"
    }
   ],
   "source": [
    "probs = model(img.unsqueeze(0))\n",
    "probs"
   ]
  },
  {
   "cell_type": "code",
   "execution_count": 11,
   "id": "ad7a715d",
   "metadata": {},
   "outputs": [
    {
     "data": {
      "text/plain": [
       "('a chicken', 'a meatballs')"
      ]
     },
     "execution_count": 11,
     "metadata": {},
     "output_type": "execute_result"
    }
   ],
   "source": [
    "ingredients_en[label], ingredients_en[probs.argmax(dim=-1).item()]"
   ]
  },
  {
   "cell_type": "code",
   "execution_count": 12,
   "id": "f485c9c5",
   "metadata": {},
   "outputs": [
    {
     "data": {
      "text/plain": [
       "(35, 21)"
      ]
     },
     "execution_count": 12,
     "metadata": {},
     "output_type": "execute_result"
    }
   ],
   "source": [
    "probs.argmax(dim=-1).item(), label"
   ]
  },
  {
   "cell_type": "code",
   "execution_count": 8,
   "id": "7c1f28e7",
   "metadata": {},
   "outputs": [],
   "source": [
    "vision_train_data = ClassificationVisionDataLoader.load_from_dataset(train_dataset,batch_size=8,shuffle=True,model=model)\n",
    "vision_test_data = ClassificationVisionDataLoader.load_from_dataset(test_dataset,batch_size=8,shuffle=True,model=model)"
   ]
  },
  {
   "cell_type": "code",
   "execution_count": 9,
   "id": "d620e817",
   "metadata": {},
   "outputs": [],
   "source": [
    "config = DeepchecksConfig(train_test_validation=True,\n",
    "                            data_integrity=True,\n",
    "                            model_evaluation=False,\n",
    "                            save_results=True,\n",
    "                            save_display=False,\n",
    "                            save_results_format='json',\n",
    "                            parse_results=True,\n",
    "                            output_dir='results')\n",
    "                            \n",
    "checks_runner = DeepchecksRunner(config)"
   ]
  },
  {
   "cell_type": "code",
   "execution_count": 10,
   "id": "f83b2301",
   "metadata": {},
   "outputs": [
    {
     "data": {
      "text/html": [
       "\n",
       "    <style>\n",
       "        progress {\n",
       "            -webkit-appearance: none;\n",
       "            border: none;\n",
       "            border-radius: 3px;\n",
       "            width: 300px;\n",
       "            height: 20px;\n",
       "            vertical-align: middle;\n",
       "            margin-right: 10px;\n",
       "            background-color: aliceblue;\n",
       "        }\n",
       "        progress::-webkit-progress-bar {\n",
       "            border-radius: 3px;\n",
       "            background-color: aliceblue;\n",
       "        }\n",
       "        progress::-webkit-progress-value {\n",
       "            background-color: #9d60fb;\n",
       "        }\n",
       "        progress::-moz-progress-bar {\n",
       "            background-color: #9d60fb;\n",
       "        }\n",
       "    </style>\n",
       "    "
      ]
     },
     "metadata": {},
     "output_type": "display_data"
    },
    {
     "data": {
      "text/html": []
     },
     "metadata": {},
     "output_type": "display_data"
    },
    {
     "data": {
      "text/html": [
       "\n",
       "    <style>\n",
       "        progress {\n",
       "            -webkit-appearance: none;\n",
       "            border: none;\n",
       "            border-radius: 3px;\n",
       "            width: 300px;\n",
       "            height: 20px;\n",
       "            vertical-align: middle;\n",
       "            margin-right: 10px;\n",
       "            background-color: aliceblue;\n",
       "        }\n",
       "        progress::-webkit-progress-bar {\n",
       "            border-radius: 3px;\n",
       "            background-color: aliceblue;\n",
       "        }\n",
       "        progress::-webkit-progress-value {\n",
       "            background-color: #9d60fb;\n",
       "        }\n",
       "        progress::-moz-progress-bar {\n",
       "            background-color: #9d60fb;\n",
       "        }\n",
       "    </style>\n",
       "    "
      ]
     },
     "metadata": {},
     "output_type": "display_data"
    },
    {
     "data": {
      "text/html": []
     },
     "metadata": {},
     "output_type": "display_data"
    },
    {
     "data": {
      "text/html": [
       "\n",
       "    <style>\n",
       "        progress {\n",
       "            -webkit-appearance: none;\n",
       "            border: none;\n",
       "            border-radius: 3px;\n",
       "            width: 300px;\n",
       "            height: 20px;\n",
       "            vertical-align: middle;\n",
       "            margin-right: 10px;\n",
       "            background-color: aliceblue;\n",
       "        }\n",
       "        progress::-webkit-progress-bar {\n",
       "            border-radius: 3px;\n",
       "            background-color: aliceblue;\n",
       "        }\n",
       "        progress::-webkit-progress-value {\n",
       "            background-color: #9d60fb;\n",
       "        }\n",
       "        progress::-moz-progress-bar {\n",
       "            background-color: #9d60fb;\n",
       "        }\n",
       "    </style>\n",
       "    "
      ]
     },
     "metadata": {},
     "output_type": "display_data"
    },
    {
     "data": {
      "text/html": []
     },
     "metadata": {},
     "output_type": "display_data"
    },
    {
     "data": {
      "text/html": [
       "\n",
       "    <style>\n",
       "        progress {\n",
       "            -webkit-appearance: none;\n",
       "            border: none;\n",
       "            border-radius: 3px;\n",
       "            width: 300px;\n",
       "            height: 20px;\n",
       "            vertical-align: middle;\n",
       "            margin-right: 10px;\n",
       "            background-color: aliceblue;\n",
       "        }\n",
       "        progress::-webkit-progress-bar {\n",
       "            border-radius: 3px;\n",
       "            background-color: aliceblue;\n",
       "        }\n",
       "        progress::-webkit-progress-value {\n",
       "            background-color: #9d60fb;\n",
       "        }\n",
       "        progress::-moz-progress-bar {\n",
       "            background-color: #9d60fb;\n",
       "        }\n",
       "    </style>\n",
       "    "
      ]
     },
     "metadata": {},
     "output_type": "display_data"
    },
    {
     "data": {
      "text/html": []
     },
     "metadata": {},
     "output_type": "display_data"
    },
    {
     "data": {
      "text/html": [
       "\n",
       "    <style>\n",
       "        progress {\n",
       "            -webkit-appearance: none;\n",
       "            border: none;\n",
       "            border-radius: 3px;\n",
       "            width: 300px;\n",
       "            height: 20px;\n",
       "            vertical-align: middle;\n",
       "            margin-right: 10px;\n",
       "            background-color: aliceblue;\n",
       "        }\n",
       "        progress::-webkit-progress-bar {\n",
       "            border-radius: 3px;\n",
       "            background-color: aliceblue;\n",
       "        }\n",
       "        progress::-webkit-progress-value {\n",
       "            background-color: #9d60fb;\n",
       "        }\n",
       "        progress::-moz-progress-bar {\n",
       "            background-color: #9d60fb;\n",
       "        }\n",
       "    </style>\n",
       "    "
      ]
     },
     "metadata": {},
     "output_type": "display_data"
    },
    {
     "data": {
      "text/html": []
     },
     "metadata": {},
     "output_type": "display_data"
    },
    {
     "name": "stderr",
     "output_type": "stream",
     "text": [
      "/home/fadelco/.local/share/uv/python/cpython-3.11.13-linux-x86_64-gnu/lib/python3.11/multiprocessing/queues.py:122: UserWarning: pkg_resources is deprecated as an API. See https://setuptools.pypa.io/en/latest/pkg_resources.html. The pkg_resources package is slated for removal as early as 2025-11-30. Refrain from using this package or pin to Setuptools<81.\n",
      "  return _ForkingPickler.loads(res)\n",
      "/home/fadelco/.local/share/uv/python/cpython-3.11.13-linux-x86_64-gnu/lib/python3.11/multiprocessing/queues.py:122: UserWarning: pkg_resources is deprecated as an API. See https://setuptools.pypa.io/en/latest/pkg_resources.html. The pkg_resources package is slated for removal as early as 2025-11-30. Refrain from using this package or pin to Setuptools<81.\n",
      "  return _ForkingPickler.loads(res)\n",
      "/home/fadelco/.local/share/uv/python/cpython-3.11.13-linux-x86_64-gnu/lib/python3.11/multiprocessing/queues.py:122: UserWarning: pkg_resources is deprecated as an API. See https://setuptools.pypa.io/en/latest/pkg_resources.html. The pkg_resources package is slated for removal as early as 2025-11-30. Refrain from using this package or pin to Setuptools<81.\n",
      "  return _ForkingPickler.loads(res)\n",
      "/home/fadelco/.local/share/uv/python/cpython-3.11.13-linux-x86_64-gnu/lib/python3.11/multiprocessing/queues.py:122: UserWarning: pkg_resources is deprecated as an API. See https://setuptools.pypa.io/en/latest/pkg_resources.html. The pkg_resources package is slated for removal as early as 2025-11-30. Refrain from using this package or pin to Setuptools<81.\n",
      "  return _ForkingPickler.loads(res)\n",
      "/home/fadelco/.local/share/uv/python/cpython-3.11.13-linux-x86_64-gnu/lib/python3.11/multiprocessing/queues.py:122: UserWarning: pkg_resources is deprecated as an API. See https://setuptools.pypa.io/en/latest/pkg_resources.html. The pkg_resources package is slated for removal as early as 2025-11-30. Refrain from using this package or pin to Setuptools<81.\n",
      "  return _ForkingPickler.loads(res)\n",
      "/home/fadelco/.local/share/uv/python/cpython-3.11.13-linux-x86_64-gnu/lib/python3.11/multiprocessing/queues.py:122: UserWarning: pkg_resources is deprecated as an API. See https://setuptools.pypa.io/en/latest/pkg_resources.html. The pkg_resources package is slated for removal as early as 2025-11-30. Refrain from using this package or pin to Setuptools<81.\n",
      "  return _ForkingPickler.loads(res)\n",
      "/home/fadelco/.local/share/uv/python/cpython-3.11.13-linux-x86_64-gnu/lib/python3.11/multiprocessing/queues.py:122: UserWarning: pkg_resources is deprecated as an API. See https://setuptools.pypa.io/en/latest/pkg_resources.html. The pkg_resources package is slated for removal as early as 2025-11-30. Refrain from using this package or pin to Setuptools<81.\n",
      "  return _ForkingPickler.loads(res)\n"
     ]
    },
    {
     "data": {
      "text/html": [
       "\n",
       "    <style>\n",
       "        progress {\n",
       "            -webkit-appearance: none;\n",
       "            border: none;\n",
       "            border-radius: 3px;\n",
       "            width: 300px;\n",
       "            height: 20px;\n",
       "            vertical-align: middle;\n",
       "            margin-right: 10px;\n",
       "            background-color: aliceblue;\n",
       "        }\n",
       "        progress::-webkit-progress-bar {\n",
       "            border-radius: 3px;\n",
       "            background-color: aliceblue;\n",
       "        }\n",
       "        progress::-webkit-progress-value {\n",
       "            background-color: #9d60fb;\n",
       "        }\n",
       "        progress::-moz-progress-bar {\n",
       "            background-color: #9d60fb;\n",
       "        }\n",
       "    </style>\n",
       "    "
      ]
     },
     "metadata": {},
     "output_type": "display_data"
    },
    {
     "data": {
      "text/html": []
     },
     "metadata": {},
     "output_type": "display_data"
    },
    {
     "data": {
      "text/html": [
       "\n",
       "    <style>\n",
       "        progress {\n",
       "            -webkit-appearance: none;\n",
       "            border: none;\n",
       "            border-radius: 3px;\n",
       "            width: 300px;\n",
       "            height: 20px;\n",
       "            vertical-align: middle;\n",
       "            margin-right: 10px;\n",
       "            background-color: aliceblue;\n",
       "        }\n",
       "        progress::-webkit-progress-bar {\n",
       "            border-radius: 3px;\n",
       "            background-color: aliceblue;\n",
       "        }\n",
       "        progress::-webkit-progress-value {\n",
       "            background-color: #9d60fb;\n",
       "        }\n",
       "        progress::-moz-progress-bar {\n",
       "            background-color: #9d60fb;\n",
       "        }\n",
       "    </style>\n",
       "    "
      ]
     },
     "metadata": {},
     "output_type": "display_data"
    },
    {
     "data": {
      "text/html": []
     },
     "metadata": {},
     "output_type": "display_data"
    },
    {
     "data": {
      "text/html": [
       "\n",
       "    <style>\n",
       "        progress {\n",
       "            -webkit-appearance: none;\n",
       "            border: none;\n",
       "            border-radius: 3px;\n",
       "            width: 300px;\n",
       "            height: 20px;\n",
       "            vertical-align: middle;\n",
       "            margin-right: 10px;\n",
       "            background-color: aliceblue;\n",
       "        }\n",
       "        progress::-webkit-progress-bar {\n",
       "            border-radius: 3px;\n",
       "            background-color: aliceblue;\n",
       "        }\n",
       "        progress::-webkit-progress-value {\n",
       "            background-color: #9d60fb;\n",
       "        }\n",
       "        progress::-moz-progress-bar {\n",
       "            background-color: #9d60fb;\n",
       "        }\n",
       "    </style>\n",
       "    "
      ]
     },
     "metadata": {},
     "output_type": "display_data"
    },
    {
     "data": {
      "text/html": []
     },
     "metadata": {},
     "output_type": "display_data"
    },
    {
     "data": {
      "text/html": [
       "\n",
       "    <style>\n",
       "        progress {\n",
       "            -webkit-appearance: none;\n",
       "            border: none;\n",
       "            border-radius: 3px;\n",
       "            width: 300px;\n",
       "            height: 20px;\n",
       "            vertical-align: middle;\n",
       "            margin-right: 10px;\n",
       "            background-color: aliceblue;\n",
       "        }\n",
       "        progress::-webkit-progress-bar {\n",
       "            border-radius: 3px;\n",
       "            background-color: aliceblue;\n",
       "        }\n",
       "        progress::-webkit-progress-value {\n",
       "            background-color: #9d60fb;\n",
       "        }\n",
       "        progress::-moz-progress-bar {\n",
       "            background-color: #9d60fb;\n",
       "        }\n",
       "    </style>\n",
       "    "
      ]
     },
     "metadata": {},
     "output_type": "display_data"
    },
    {
     "data": {
      "text/html": []
     },
     "metadata": {},
     "output_type": "display_data"
    },
    {
     "data": {
      "text/html": [
       "\n",
       "    <style>\n",
       "        progress {\n",
       "            -webkit-appearance: none;\n",
       "            border: none;\n",
       "            border-radius: 3px;\n",
       "            width: 300px;\n",
       "            height: 20px;\n",
       "            vertical-align: middle;\n",
       "            margin-right: 10px;\n",
       "            background-color: aliceblue;\n",
       "        }\n",
       "        progress::-webkit-progress-bar {\n",
       "            border-radius: 3px;\n",
       "            background-color: aliceblue;\n",
       "        }\n",
       "        progress::-webkit-progress-value {\n",
       "            background-color: #9d60fb;\n",
       "        }\n",
       "        progress::-moz-progress-bar {\n",
       "            background-color: #9d60fb;\n",
       "        }\n",
       "    </style>\n",
       "    "
      ]
     },
     "metadata": {},
     "output_type": "display_data"
    },
    {
     "data": {
      "text/html": []
     },
     "metadata": {},
     "output_type": "display_data"
    },
    {
     "ename": "AttributeError",
     "evalue": "'list' object has no attribute 'to_json'",
     "output_type": "error",
     "traceback": [
      "\u001b[31m---------------------------------------------------------------------------\u001b[39m",
      "\u001b[31mAttributeError\u001b[39m                            Traceback (most recent call last)",
      "\u001b[36mCell\u001b[39m\u001b[36m \u001b[39m\u001b[32mIn[10]\u001b[39m\u001b[32m, line 1\u001b[39m\n\u001b[32m----> \u001b[39m\u001b[32m1\u001b[39m results = \u001b[43mchecks_runner\u001b[49m\u001b[43m.\u001b[49m\u001b[43mrun_suites\u001b[49m\u001b[43m(\u001b[49m\u001b[43mtrain_data\u001b[49m\u001b[43m=\u001b[49m\u001b[43mvision_train_data\u001b[49m\u001b[43m,\u001b[49m\u001b[43mtest_data\u001b[49m\u001b[43m=\u001b[49m\u001b[43mvision_test_data\u001b[49m\u001b[43m)\u001b[49m\n",
      "\u001b[36mFile \u001b[39m\u001b[32m~/workspace/deepsight/src/deepsight/integrations/deepchecks.py:167\u001b[39m, in \u001b[36mDeepchecksRunner.run_suites\u001b[39m\u001b[34m(self, train_data, test_data)\u001b[39m\n\u001b[32m    165\u001b[39m     \u001b[38;5;28;01mfor\u001b[39;00m name, result \u001b[38;5;129;01min\u001b[39;00m output.items():\n\u001b[32m    166\u001b[39m         output_path = \u001b[38;5;28mself\u001b[39m.output_dir / \u001b[33mf\u001b[39m\u001b[33m\"\u001b[39m\u001b[38;5;132;01m{\u001b[39;00mname\u001b[38;5;132;01m}\u001b[39;00m\u001b[33m.\u001b[39m\u001b[38;5;132;01m{\u001b[39;00m\u001b[38;5;28mself\u001b[39m.config.save_results_format\u001b[38;5;132;01m}\u001b[39;00m\u001b[33m\"\u001b[39m\n\u001b[32m--> \u001b[39m\u001b[32m167\u001b[39m         \u001b[38;5;28;43mself\u001b[39;49m\u001b[43m.\u001b[49m\u001b[43msave_results\u001b[49m\u001b[43m(\u001b[49m\u001b[43mresult\u001b[49m\u001b[43m,\u001b[49m\u001b[43m \u001b[49m\u001b[38;5;28;43mstr\u001b[39;49m\u001b[43m(\u001b[49m\u001b[43moutput_path\u001b[49m\u001b[43m)\u001b[49m\u001b[43m,\u001b[49m\u001b[43m \u001b[49m\u001b[43moutput_format\u001b[49m\u001b[43m=\u001b[49m\u001b[38;5;28;43mself\u001b[39;49m\u001b[43m.\u001b[49m\u001b[43mconfig\u001b[49m\u001b[43m.\u001b[49m\u001b[43msave_results_format\u001b[49m\u001b[43m)\u001b[49m\n\u001b[32m    168\u001b[39m         LOGGER.info(\u001b[33mf\u001b[39m\u001b[33m\"\u001b[39m\u001b[33mResults saved to \u001b[39m\u001b[38;5;132;01m{\u001b[39;00moutput_path\u001b[38;5;132;01m}\u001b[39;00m\u001b[33m in \u001b[39m\u001b[38;5;132;01m{\u001b[39;00m\u001b[38;5;28mself\u001b[39m.config.save_results_format\u001b[38;5;132;01m}\u001b[39;00m\u001b[33m format\u001b[39m\u001b[33m\"\u001b[39m)\n\u001b[32m    170\u001b[39m \u001b[38;5;28;01mreturn\u001b[39;00m output\n",
      "\u001b[36mFile \u001b[39m\u001b[32m~/workspace/deepsight/src/deepsight/integrations/deepchecks.py:134\u001b[39m, in \u001b[36mDeepchecksRunner.save_results\u001b[39m\u001b[34m(self, results, output_path, output_format)\u001b[39m\n\u001b[32m    132\u001b[39m \u001b[38;5;28;01mif\u001b[39;00m output_format == \u001b[33m\"\u001b[39m\u001b[33mjson\u001b[39m\u001b[33m\"\u001b[39m:\n\u001b[32m    133\u001b[39m     \u001b[38;5;28;01mwith\u001b[39;00m \u001b[38;5;28mopen\u001b[39m(output_path, \u001b[33m'\u001b[39m\u001b[33mw\u001b[39m\u001b[33m'\u001b[39m) \u001b[38;5;28;01mas\u001b[39;00m f:\n\u001b[32m--> \u001b[39m\u001b[32m134\u001b[39m         json.dump(json.loads(\u001b[43mresults\u001b[49m\u001b[43m.\u001b[49m\u001b[43mto_json\u001b[49m(with_display=\u001b[38;5;28mself\u001b[39m.config.save_display)), f, indent=\u001b[32m3\u001b[39m)\n\u001b[32m    135\u001b[39m     LOGGER.info(\u001b[33mf\u001b[39m\u001b[33m\"\u001b[39m\u001b[33mResults saved to \u001b[39m\u001b[38;5;132;01m{\u001b[39;00moutput_path\u001b[38;5;132;01m}\u001b[39;00m\u001b[33m\"\u001b[39m)\n\u001b[32m    136\u001b[39m \u001b[38;5;28;01melif\u001b[39;00m output_format == \u001b[33m\"\u001b[39m\u001b[33mhtml\u001b[39m\u001b[33m\"\u001b[39m:\n",
      "\u001b[31mAttributeError\u001b[39m: 'list' object has no attribute 'to_json'"
     ]
    }
   ],
   "source": [
    "results = checks_runner.run_suites(train_data=vision_train_data,test_data=vision_test_data)"
   ]
  },
  {
   "cell_type": "code",
   "execution_count": 19,
   "id": "bbfc370a",
   "metadata": {},
   "outputs": [
    {
     "data": {
      "text/plain": [
       "{'train_test_validation': Train Test Validation Suite,\n",
       " 'data_integrity': Data Integrity Suite,\n",
       " 'model_evaluation': Model Evaluation Suite}"
      ]
     },
     "execution_count": 19,
     "metadata": {},
     "output_type": "execute_result"
    }
   ],
   "source": [
    "results"
   ]
  },
  {
   "cell_type": "code",
   "execution_count": 22,
   "id": "c8113ea9",
   "metadata": {},
   "outputs": [],
   "source": [
    "result = results['model_evaluation']"
   ]
  },
  {
   "cell_type": "code",
   "execution_count": 26,
   "id": "ad00178d",
   "metadata": {},
   "outputs": [
    {
     "data": {
      "application/vnd.jupyter.widget-view+json": {
       "model_id": "74ac8b804fa34d579791a6579ef9d5cf",
       "version_major": 2,
       "version_minor": 0
      },
      "text/plain": [
       "Accordion(children=(VBox(children=(HTML(value='\\n<h1 id=\"summary_XAJI0Y6DPBHSAHXTHV3A3ZMF8\">Model Evaluation S…"
      ]
     },
     "metadata": {},
     "output_type": "display_data"
    }
   ],
   "source": [
    "result"
   ]
  },
  {
   "cell_type": "code",
   "execution_count": 23,
   "id": "819d1a65",
   "metadata": {},
   "outputs": [
    {
     "data": {
      "text/plain": [
       "[Prediction Drift: OrderedDict([('Samples Per Class', {'Drift score': np.float64(0.46978513481321343), 'Method': \"Cramer's V\"})]),\n",
       " Simple Model Comparison:             Model Metric  Class Class Name  Number of samples  Value\n",
       " 0    Simple Model     F1      1          1                 40    0.0\n",
       " 1    Simple Model     F1      4          4                 40    0.0\n",
       " 2    Simple Model     F1     15         15                  0    0.0\n",
       " 3    Simple Model     F1     34         34                 40    0.0\n",
       " 4    Simple Model     F1     35         35                  0    0.0\n",
       " 5    Simple Model     F1     37         37                 40    0.0\n",
       " 6   Perfect Model     F1      1          1                 40    1.0\n",
       " 7   Perfect Model     F1      4          4                 40    1.0\n",
       " 8   Perfect Model     F1     34         34                 40    1.0\n",
       " 9   Perfect Model     F1     37         37                 40    1.0\n",
       " 10  Perfect Model     F1     15         15                  0    0.0\n",
       " 11  Perfect Model     F1     35         35                  0    0.0\n",
       " 12    Given Model     F1      1          1                 40    0.0\n",
       " 13    Given Model     F1      4          4                 40    0.0\n",
       " 14    Given Model     F1     15         15                  0    0.0\n",
       " 15    Given Model     F1     34         34                 40    0.0\n",
       " 16    Given Model     F1     35         35                  0    0.0\n",
       " 17    Given Model     F1     37         37                 40    0.0,\n",
       " Class Performance:    Dataset     Metric  Class Class Name  Number of samples  Value\n",
       " 0    Train  Precision      5          5                 18    0.0\n",
       " 1    Train  Precision      6          6                 17    0.0\n",
       " 2    Train  Precision     14         14                 12    0.0\n",
       " 3    Train  Precision     15         15                  0    0.0\n",
       " 4    Train  Precision     17         17                 41    0.0\n",
       " 5    Train  Precision     21         21                 35    0.0\n",
       " 6    Train  Precision     22         22                 18    0.0\n",
       " 7    Train  Precision     25         25                 14    0.0\n",
       " 8    Train  Precision     30         30                 19    0.0\n",
       " 9    Train  Precision     34         34                 18    0.0\n",
       " 10   Train  Precision     36         36                 23    0.0\n",
       " 11   Train     Recall      5          5                 18    0.0\n",
       " 12   Train     Recall      6          6                 17    0.0\n",
       " 13   Train     Recall     14         14                 12    0.0\n",
       " 14   Train     Recall     15         15                  0    0.0\n",
       " 15   Train     Recall     17         17                 41    0.0\n",
       " 16   Train     Recall     21         21                 35    0.0\n",
       " 17   Train     Recall     22         22                 18    0.0\n",
       " 18   Train     Recall     25         25                 14    0.0\n",
       " 19   Train     Recall     30         30                 19    0.0\n",
       " 20   Train     Recall     34         34                 18    0.0\n",
       " 21   Train     Recall     36         36                 23    0.0\n",
       " 0     Test  Precision      1          1                 40    0.0\n",
       " 1     Test  Precision      4          4                 40    0.0\n",
       " 2     Test  Precision     15         15                  0    0.0\n",
       " 3     Test  Precision     34         34                 40    0.0\n",
       " 4     Test  Precision     35         35                  0    0.0\n",
       " 5     Test  Precision     37         37                 40    0.0\n",
       " 6     Test     Recall      1          1                 40    0.0\n",
       " 7     Test     Recall      4          4                 40    0.0\n",
       " 8     Test     Recall     15         15                  0    0.0\n",
       " 9     Test     Recall     34         34                 40    0.0\n",
       " 10    Test     Recall     35         35                  0    0.0\n",
       " 11    Test     Recall     37         37                 40    0.0,\n",
       " Confusion Matrix: [[nan nan  6. nan 34. nan]\n",
       "  [nan nan 14. nan 26. nan]\n",
       "  [nan nan nan nan nan nan]\n",
       "  [nan nan 40. nan  0. nan]\n",
       "  [nan nan nan nan nan nan]\n",
       "  [nan nan 40. nan  0. nan]],\n",
       " Confusion Matrix: [[nan nan nan 18. nan nan nan nan nan nan nan]\n",
       "  [nan nan nan 17. nan nan nan nan nan nan nan]\n",
       "  [nan nan nan 12. nan nan nan nan nan nan nan]\n",
       "  [nan nan nan nan nan nan nan nan nan nan nan]\n",
       "  [nan nan nan 41. nan nan nan nan nan nan nan]\n",
       "  [nan nan nan 35. nan nan nan nan nan nan nan]\n",
       "  [nan nan nan 18. nan nan nan nan nan nan nan]\n",
       "  [nan nan nan 14. nan nan nan nan nan nan nan]\n",
       "  [nan nan nan 19. nan nan nan nan nan nan nan]\n",
       "  [nan nan nan 18. nan nan nan nan nan nan nan]\n",
       "  [nan nan nan 23. nan nan nan nan nan nan nan]],\n",
       " Mean Average Precision Report: Check is irrelevant for task of type TaskType.CLASSIFICATION,\n",
       " Mean Average Precision Report: Check is irrelevant for task of type TaskType.CLASSIFICATION,\n",
       " Mean Average Recall Report: Check is irrelevant for task of type TaskType.CLASSIFICATION,\n",
       " Mean Average Recall Report: Check is irrelevant for task of type TaskType.CLASSIFICATION,\n",
       " Weak Segments PerformanceTest: `np.NINF` was removed in the NumPy 2.0 release. Use `-np.inf` instead.,\n",
       " Weak Segments PerformanceTrain: `np.NINF` was removed in the NumPy 2.0 release. Use `-np.inf` instead.]"
      ]
     },
     "execution_count": 23,
     "metadata": {},
     "output_type": "execute_result"
    }
   ],
   "source": [
    "result.results "
   ]
  },
  {
   "cell_type": "code",
   "execution_count": 24,
   "id": "4a932c58",
   "metadata": {},
   "outputs": [
    {
     "data": {
      "text/plain": [
       "[deepchecks.core.check_result.CheckResult,\n",
       " deepchecks.core.check_result.CheckResult,\n",
       " deepchecks.core.check_result.CheckResult,\n",
       " deepchecks.core.check_result.CheckResult,\n",
       " deepchecks.core.check_result.CheckResult,\n",
       " deepchecks.core.check_result.CheckFailure,\n",
       " deepchecks.core.check_result.CheckFailure,\n",
       " deepchecks.core.check_result.CheckFailure,\n",
       " deepchecks.core.check_result.CheckFailure,\n",
       " deepchecks.core.check_result.CheckFailure,\n",
       " deepchecks.core.check_result.CheckFailure]"
      ]
     },
     "execution_count": 24,
     "metadata": {},
     "output_type": "execute_result"
    }
   ],
   "source": [
    "[type(r) for r in result.results]"
   ]
  },
  {
   "cell_type": "code",
   "execution_count": null,
   "id": "0a0a0139",
   "metadata": {},
   "outputs": [],
   "source": []
  },
  {
   "cell_type": "code",
   "execution_count": 30,
   "id": "66850a1b",
   "metadata": {},
   "outputs": [
    {
     "data": {
      "text/plain": [
       "{'header': 'Label Property Outliers',\n",
       " 'type': 'CheckFailure',\n",
       " 'check': {'name': 'Label Property Outliers',\n",
       "  'params': {'n_show_top': 3,\n",
       "   'iqr_percentiles': [25, 75],\n",
       "   'iqr_scale': 1.5,\n",
       "   'min_samples': 10,\n",
       "   'n_samples': 10000},\n",
       "  'summary': 'Find outliers labels with respect to the given properties.'},\n",
       " 'exception': 'task type classification does not have default label properties for label outliers.'}"
      ]
     },
     "execution_count": 30,
     "metadata": {},
     "output_type": "execute_result"
    }
   ],
   "source": [
    "json.loads(result.results[-1].to_json(with_display=False))"
   ]
  },
  {
   "cell_type": "code",
   "execution_count": 25,
   "id": "9cb8b972",
   "metadata": {},
   "outputs": [
    {
     "data": {
      "text/plain": [
       "['Image Property Outliers',\n",
       " 'Image Property Outliers',\n",
       " 'Property Label Correlation',\n",
       " 'Property Label Correlation',\n",
       " 'Label Property Outliers',\n",
       " 'Label Property Outliers']"
      ]
     },
     "execution_count": 25,
     "metadata": {},
     "output_type": "execute_result"
    }
   ],
   "source": [
    "[r.get_metadata().get('header') for r in result.results]"
   ]
  },
  {
   "cell_type": "code",
   "execution_count": 57,
   "id": "1ab9fbe2",
   "metadata": {},
   "outputs": [
    {
     "data": {
      "text/plain": [
       "[str,\n",
       " str,\n",
       " plotly.graph_objs._figure.Figure,\n",
       " str,\n",
       " str,\n",
       " str,\n",
       " plotly.graph_objs._figure.Figure]"
      ]
     },
     "execution_count": 57,
     "metadata": {},
     "output_type": "execute_result"
    }
   ],
   "source": [
    "[type(r)  for r in result.results[5].display]"
   ]
  },
  {
   "cell_type": "code",
   "execution_count": 58,
   "id": "32f63d25",
   "metadata": {},
   "outputs": [
    {
     "data": {
      "text/plain": [
       "['\\n        <span>\\n        The shown features are the image properties (brightness, aspect ratio, etc.) that are most important for the\\n        domain classifier - the domain_classifier trained to distinguish between the train and test datasets.<br>\\n        </span>\\n        ',\n",
       " '\\n    <span>\\n    The percents of explained dataset difference are the importance values for the feature calculated\\n    using `permutation_importance`.\\n    </span><br><br>\\n    ',\n",
       " '<h3>Main features contributing to drift</h3>',\n",
       " 'Showing only the top 3 columns, you can change it using n_top_columns param',\n",
       " 'For discrete distribution plots, showing the top 10 categories with largest difference between train and test.']"
      ]
     },
     "execution_count": 58,
     "metadata": {},
     "output_type": "execute_result"
    }
   ],
   "source": [
    "[r for r in result.results[5].display if isinstance(r,str)]"
   ]
  },
  {
   "cell_type": "code",
   "execution_count": 55,
   "id": "9e40700e",
   "metadata": {},
   "outputs": [
    {
     "data": {
      "application/vnd.jupyter.widget-view+json": {
       "model_id": "4f01c2923e614785b24782f82c605d02",
       "version_major": 2,
       "version_minor": 0
      },
      "text/plain": [
       "VBox(children=(HTML(value='<h4><b>Heatmap Comparison</b></h4>'), HTML(value='<p>Check if the average image bri…"
      ]
     },
     "metadata": {},
     "output_type": "display_data"
    }
   ],
   "source": [
    "result.results[4] #.display[5]"
   ]
  }
 ],
 "metadata": {
  "kernelspec": {
   "display_name": ".venv",
   "language": "python",
   "name": "python3"
  },
  "language_info": {
   "codemirror_mode": {
    "name": "ipython",
    "version": 3
   },
   "file_extension": ".py",
   "mimetype": "text/x-python",
   "name": "python",
   "nbconvert_exporter": "python",
   "pygments_lexer": "ipython3",
   "version": "3.11.13"
  }
 },
 "nbformat": 4,
 "nbformat_minor": 5
}
